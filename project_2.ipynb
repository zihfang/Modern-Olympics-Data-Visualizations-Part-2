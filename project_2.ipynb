{
 "cells": [
  {
   "cell_type": "code",
   "execution_count": 1,
   "metadata": {},
   "outputs": [],
   "source": [
    "import pandas as pd\n",
    "import numpy as np\n",
    "import seaborn as sns\n",
    "import matplotlib.pyplot as plt\n",
    "import altair as alt\n",
    "%matplotlib inline"
   ]
  },
  {
   "cell_type": "code",
   "execution_count": 2,
   "metadata": {},
   "outputs": [],
   "source": [
    "data = pd.read_csv('/Users/Tal/Desktop/2019 Fall/Data Visualization/final project/120-years-of-olympic-history-athletes-and-results/athlete_events.csv')"
   ]
  },
  {
   "cell_type": "code",
   "execution_count": 3,
   "metadata": {},
   "outputs": [
    {
     "data": {
      "text/html": [
       "<div>\n",
       "<style scoped>\n",
       "    .dataframe tbody tr th:only-of-type {\n",
       "        vertical-align: middle;\n",
       "    }\n",
       "\n",
       "    .dataframe tbody tr th {\n",
       "        vertical-align: top;\n",
       "    }\n",
       "\n",
       "    .dataframe thead th {\n",
       "        text-align: right;\n",
       "    }\n",
       "</style>\n",
       "<table border=\"1\" class=\"dataframe\">\n",
       "  <thead>\n",
       "    <tr style=\"text-align: right;\">\n",
       "      <th></th>\n",
       "      <th>ID</th>\n",
       "      <th>Name</th>\n",
       "      <th>Sex</th>\n",
       "      <th>Age</th>\n",
       "      <th>Height</th>\n",
       "      <th>Weight</th>\n",
       "      <th>Team</th>\n",
       "      <th>NOC</th>\n",
       "      <th>Games</th>\n",
       "      <th>Year</th>\n",
       "      <th>Season</th>\n",
       "      <th>City</th>\n",
       "      <th>Sport</th>\n",
       "      <th>Event</th>\n",
       "      <th>Medal</th>\n",
       "    </tr>\n",
       "  </thead>\n",
       "  <tbody>\n",
       "    <tr>\n",
       "      <td>155440</td>\n",
       "      <td>78029</td>\n",
       "      <td>Mario Medda</td>\n",
       "      <td>M</td>\n",
       "      <td>33.0</td>\n",
       "      <td>179.0</td>\n",
       "      <td>70.0</td>\n",
       "      <td>Italy</td>\n",
       "      <td>ITA</td>\n",
       "      <td>1976 Summer</td>\n",
       "      <td>1976</td>\n",
       "      <td>Summer</td>\n",
       "      <td>Montreal</td>\n",
       "      <td>Modern Pentathlon</td>\n",
       "      <td>Modern Pentathlon Men's Team</td>\n",
       "      <td>NaN</td>\n",
       "    </tr>\n",
       "    <tr>\n",
       "      <td>95471</td>\n",
       "      <td>48332</td>\n",
       "      <td>Barnabs Hevesy</td>\n",
       "      <td>M</td>\n",
       "      <td>30.0</td>\n",
       "      <td>182.0</td>\n",
       "      <td>78.0</td>\n",
       "      <td>Hungary</td>\n",
       "      <td>HUN</td>\n",
       "      <td>1980 Summer</td>\n",
       "      <td>1980</td>\n",
       "      <td>Summer</td>\n",
       "      <td>Moskva</td>\n",
       "      <td>Equestrianism</td>\n",
       "      <td>Equestrianism Mixed Jumping, Team</td>\n",
       "      <td>NaN</td>\n",
       "    </tr>\n",
       "    <tr>\n",
       "      <td>257417</td>\n",
       "      <td>128894</td>\n",
       "      <td>Kumiko Watanabe (-Kaneto)</td>\n",
       "      <td>F</td>\n",
       "      <td>28.0</td>\n",
       "      <td>159.0</td>\n",
       "      <td>63.0</td>\n",
       "      <td>Japan</td>\n",
       "      <td>JPN</td>\n",
       "      <td>1964 Summer</td>\n",
       "      <td>1964</td>\n",
       "      <td>Summer</td>\n",
       "      <td>Tokyo</td>\n",
       "      <td>Diving</td>\n",
       "      <td>Diving Women's Springboard</td>\n",
       "      <td>NaN</td>\n",
       "    </tr>\n",
       "    <tr>\n",
       "      <td>244109</td>\n",
       "      <td>122237</td>\n",
       "      <td>Rainer Tscharke</td>\n",
       "      <td>M</td>\n",
       "      <td>26.0</td>\n",
       "      <td>186.0</td>\n",
       "      <td>82.0</td>\n",
       "      <td>East Germany</td>\n",
       "      <td>GDR</td>\n",
       "      <td>1968 Summer</td>\n",
       "      <td>1968</td>\n",
       "      <td>Summer</td>\n",
       "      <td>Mexico City</td>\n",
       "      <td>Volleyball</td>\n",
       "      <td>Volleyball Men's Volleyball</td>\n",
       "      <td>NaN</td>\n",
       "    </tr>\n",
       "    <tr>\n",
       "      <td>44047</td>\n",
       "      <td>22692</td>\n",
       "      <td>Barthold Wayne \"Bart\" Conner</td>\n",
       "      <td>M</td>\n",
       "      <td>26.0</td>\n",
       "      <td>165.0</td>\n",
       "      <td>58.0</td>\n",
       "      <td>United States</td>\n",
       "      <td>USA</td>\n",
       "      <td>1984 Summer</td>\n",
       "      <td>1984</td>\n",
       "      <td>Summer</td>\n",
       "      <td>Los Angeles</td>\n",
       "      <td>Gymnastics</td>\n",
       "      <td>Gymnastics Men's Horizontal Bar</td>\n",
       "      <td>NaN</td>\n",
       "    </tr>\n",
       "  </tbody>\n",
       "</table>\n",
       "</div>"
      ],
      "text/plain": [
       "            ID                          Name Sex   Age  Height  Weight  \\\n",
       "155440   78029                   Mario Medda   M  33.0   179.0    70.0   \n",
       "95471    48332                Barnabs Hevesy   M  30.0   182.0    78.0   \n",
       "257417  128894     Kumiko Watanabe (-Kaneto)   F  28.0   159.0    63.0   \n",
       "244109  122237               Rainer Tscharke   M  26.0   186.0    82.0   \n",
       "44047    22692  Barthold Wayne \"Bart\" Conner   M  26.0   165.0    58.0   \n",
       "\n",
       "                 Team  NOC        Games  Year  Season         City  \\\n",
       "155440          Italy  ITA  1976 Summer  1976  Summer     Montreal   \n",
       "95471         Hungary  HUN  1980 Summer  1980  Summer       Moskva   \n",
       "257417          Japan  JPN  1964 Summer  1964  Summer        Tokyo   \n",
       "244109   East Germany  GDR  1968 Summer  1968  Summer  Mexico City   \n",
       "44047   United States  USA  1984 Summer  1984  Summer  Los Angeles   \n",
       "\n",
       "                    Sport                              Event Medal  \n",
       "155440  Modern Pentathlon       Modern Pentathlon Men's Team   NaN  \n",
       "95471       Equestrianism  Equestrianism Mixed Jumping, Team   NaN  \n",
       "257417             Diving         Diving Women's Springboard   NaN  \n",
       "244109         Volleyball        Volleyball Men's Volleyball   NaN  \n",
       "44047          Gymnastics    Gymnastics Men's Horizontal Bar   NaN  "
      ]
     },
     "execution_count": 3,
     "metadata": {},
     "output_type": "execute_result"
    }
   ],
   "source": [
    "summer= data[data.Season=='Summer']\n",
    "summer.sample(5)"
   ]
  },
  {
   "cell_type": "code",
   "execution_count": 5,
   "metadata": {},
   "outputs": [
    {
     "data": {
      "text/html": [
       "<div>\n",
       "<style scoped>\n",
       "    .dataframe tbody tr th:only-of-type {\n",
       "        vertical-align: middle;\n",
       "    }\n",
       "\n",
       "    .dataframe tbody tr th {\n",
       "        vertical-align: top;\n",
       "    }\n",
       "\n",
       "    .dataframe thead th {\n",
       "        text-align: right;\n",
       "    }\n",
       "</style>\n",
       "<table border=\"1\" class=\"dataframe\">\n",
       "  <thead>\n",
       "    <tr style=\"text-align: right;\">\n",
       "      <th></th>\n",
       "      <th>Year</th>\n",
       "      <th>Sex</th>\n",
       "    </tr>\n",
       "  </thead>\n",
       "  <tbody>\n",
       "    <tr>\n",
       "      <td>0</td>\n",
       "      <td>1992</td>\n",
       "      <td>M</td>\n",
       "    </tr>\n",
       "    <tr>\n",
       "      <td>1</td>\n",
       "      <td>2012</td>\n",
       "      <td>M</td>\n",
       "    </tr>\n",
       "    <tr>\n",
       "      <td>2</td>\n",
       "      <td>1920</td>\n",
       "      <td>M</td>\n",
       "    </tr>\n",
       "    <tr>\n",
       "      <td>3</td>\n",
       "      <td>1900</td>\n",
       "      <td>M</td>\n",
       "    </tr>\n",
       "    <tr>\n",
       "      <td>26</td>\n",
       "      <td>1932</td>\n",
       "      <td>F</td>\n",
       "    </tr>\n",
       "  </tbody>\n",
       "</table>\n",
       "</div>"
      ],
      "text/plain": [
       "    Year Sex\n",
       "0   1992   M\n",
       "1   2012   M\n",
       "2   1920   M\n",
       "3   1900   M\n",
       "26  1932   F"
      ]
     },
     "execution_count": 5,
     "metadata": {},
     "output_type": "execute_result"
    }
   ],
   "source": [
    "yearandsex=summer[['Year', 'Sex']] \n",
    "yearandsex.head()"
   ]
  },
  {
   "cell_type": "code",
   "execution_count": 6,
   "metadata": {},
   "outputs": [],
   "source": [
    "female=pd.read_csv('/Users/Tal/Desktop/2019 Fall/Data Visualization/final project/120-years-of-olympic-history-athletes-and-results/female_tidy_df.csv')"
   ]
  },
  {
   "cell_type": "code",
   "execution_count": 7,
   "metadata": {},
   "outputs": [
    {
     "data": {
      "text/html": [
       "<div>\n",
       "<style scoped>\n",
       "    .dataframe tbody tr th:only-of-type {\n",
       "        vertical-align: middle;\n",
       "    }\n",
       "\n",
       "    .dataframe tbody tr th {\n",
       "        vertical-align: top;\n",
       "    }\n",
       "\n",
       "    .dataframe thead th {\n",
       "        text-align: right;\n",
       "    }\n",
       "</style>\n",
       "<table border=\"1\" class=\"dataframe\">\n",
       "  <thead>\n",
       "    <tr style=\"text-align: right;\">\n",
       "      <th></th>\n",
       "      <th>Unnamed: 0</th>\n",
       "      <th>year</th>\n",
       "      <th>sex</th>\n",
       "      <th>frequencies</th>\n",
       "    </tr>\n",
       "  </thead>\n",
       "  <tbody>\n",
       "    <tr>\n",
       "      <td>0</td>\n",
       "      <td>1</td>\n",
       "      <td>1896</td>\n",
       "      <td>F</td>\n",
       "      <td>0</td>\n",
       "    </tr>\n",
       "    <tr>\n",
       "      <td>1</td>\n",
       "      <td>2</td>\n",
       "      <td>1900</td>\n",
       "      <td>F</td>\n",
       "      <td>33</td>\n",
       "    </tr>\n",
       "    <tr>\n",
       "      <td>2</td>\n",
       "      <td>3</td>\n",
       "      <td>1904</td>\n",
       "      <td>F</td>\n",
       "      <td>16</td>\n",
       "    </tr>\n",
       "    <tr>\n",
       "      <td>3</td>\n",
       "      <td>4</td>\n",
       "      <td>1906</td>\n",
       "      <td>F</td>\n",
       "      <td>11</td>\n",
       "    </tr>\n",
       "    <tr>\n",
       "      <td>4</td>\n",
       "      <td>5</td>\n",
       "      <td>1908</td>\n",
       "      <td>F</td>\n",
       "      <td>47</td>\n",
       "    </tr>\n",
       "  </tbody>\n",
       "</table>\n",
       "</div>"
      ],
      "text/plain": [
       "   Unnamed: 0  year sex  frequencies\n",
       "0           1  1896   F            0\n",
       "1           2  1900   F           33\n",
       "2           3  1904   F           16\n",
       "3           4  1906   F           11\n",
       "4           5  1908   F           47"
      ]
     },
     "execution_count": 7,
     "metadata": {},
     "output_type": "execute_result"
    }
   ],
   "source": [
    "female.head()"
   ]
  },
  {
   "cell_type": "code",
   "execution_count": 8,
   "metadata": {},
   "outputs": [
    {
     "data": {
      "text/html": [
       "<div>\n",
       "<style scoped>\n",
       "    .dataframe tbody tr th:only-of-type {\n",
       "        vertical-align: middle;\n",
       "    }\n",
       "\n",
       "    .dataframe tbody tr th {\n",
       "        vertical-align: top;\n",
       "    }\n",
       "\n",
       "    .dataframe thead th {\n",
       "        text-align: right;\n",
       "    }\n",
       "</style>\n",
       "<table border=\"1\" class=\"dataframe\">\n",
       "  <thead>\n",
       "    <tr style=\"text-align: right;\">\n",
       "      <th></th>\n",
       "      <th>year</th>\n",
       "      <th>sex</th>\n",
       "      <th>frequencies</th>\n",
       "    </tr>\n",
       "  </thead>\n",
       "  <tbody>\n",
       "    <tr>\n",
       "      <td>0</td>\n",
       "      <td>1896</td>\n",
       "      <td>F</td>\n",
       "      <td>0</td>\n",
       "    </tr>\n",
       "    <tr>\n",
       "      <td>1</td>\n",
       "      <td>1900</td>\n",
       "      <td>F</td>\n",
       "      <td>33</td>\n",
       "    </tr>\n",
       "    <tr>\n",
       "      <td>2</td>\n",
       "      <td>1904</td>\n",
       "      <td>F</td>\n",
       "      <td>16</td>\n",
       "    </tr>\n",
       "    <tr>\n",
       "      <td>3</td>\n",
       "      <td>1906</td>\n",
       "      <td>F</td>\n",
       "      <td>11</td>\n",
       "    </tr>\n",
       "    <tr>\n",
       "      <td>4</td>\n",
       "      <td>1908</td>\n",
       "      <td>F</td>\n",
       "      <td>47</td>\n",
       "    </tr>\n",
       "  </tbody>\n",
       "</table>\n",
       "</div>"
      ],
      "text/plain": [
       "   year sex  frequencies\n",
       "0  1896   F            0\n",
       "1  1900   F           33\n",
       "2  1904   F           16\n",
       "3  1906   F           11\n",
       "4  1908   F           47"
      ]
     },
     "execution_count": 8,
     "metadata": {},
     "output_type": "execute_result"
    }
   ],
   "source": [
    "female = female.drop(female.columns[[0]], axis=1)\n",
    "female.head()"
   ]
  },
  {
   "cell_type": "code",
   "execution_count": 9,
   "metadata": {},
   "outputs": [
    {
     "data": {
      "application/vnd.vegalite.v3+json": {
       "$schema": "https://vega.github.io/schema/vega-lite/v3.4.0.json",
       "config": {
        "mark": {
         "tooltip": null
        },
        "view": {
         "height": 300,
         "width": 400
        }
       },
       "data": {
        "name": "data-2a1c3427a6b7393d133244e49bb8a6be"
       },
       "datasets": {
        "data-2a1c3427a6b7393d133244e49bb8a6be": [
         {
          "frequencies": 0,
          "sex": "F",
          "year": 1896
         },
         {
          "frequencies": 33,
          "sex": "F",
          "year": 1900
         },
         {
          "frequencies": 16,
          "sex": "F",
          "year": 1904
         },
         {
          "frequencies": 11,
          "sex": "F",
          "year": 1906
         },
         {
          "frequencies": 47,
          "sex": "F",
          "year": 1908
         },
         {
          "frequencies": 87,
          "sex": "F",
          "year": 1912
         },
         {
          "frequencies": 134,
          "sex": "F",
          "year": 1920
         },
         {
          "frequencies": 244,
          "sex": "F",
          "year": 1924
         },
         {
          "frequencies": 404,
          "sex": "F",
          "year": 1928
         },
         {
          "frequencies": 347,
          "sex": "F",
          "year": 1932
         },
         {
          "frequencies": 468,
          "sex": "F",
          "year": 1936
         },
         {
          "frequencies": 628,
          "sex": "F",
          "year": 1948
         },
         {
          "frequencies": 1497,
          "sex": "F",
          "year": 1952
         },
         {
          "frequencies": 893,
          "sex": "F",
          "year": 1956
         },
         {
          "frequencies": 1435,
          "sex": "F",
          "year": 1960
         },
         {
          "frequencies": 1348,
          "sex": "F",
          "year": 1964
         },
         {
          "frequencies": 1777,
          "sex": "F",
          "year": 1968
         },
         {
          "frequencies": 2193,
          "sex": "F",
          "year": 1972
         },
         {
          "frequencies": 2172,
          "sex": "F",
          "year": 1976
         },
         {
          "frequencies": 1756,
          "sex": "F",
          "year": 1980
         },
         {
          "frequencies": 2447,
          "sex": "F",
          "year": 1984
         },
         {
          "frequencies": 3543,
          "sex": "F",
          "year": 1988
         },
         {
          "frequencies": 4124,
          "sex": "F",
          "year": 1992
         },
         {
          "frequencies": 5008,
          "sex": "F",
          "year": 1996
         },
         {
          "frequencies": 5431,
          "sex": "F",
          "year": 2000
         },
         {
          "frequencies": 5546,
          "sex": "F",
          "year": 2004
         },
         {
          "frequencies": 5816,
          "sex": "F",
          "year": 2008
         },
         {
          "frequencies": 5815,
          "sex": "F",
          "year": 2012
         },
         {
          "frequencies": 6223,
          "sex": "F",
          "year": 2016
         },
         {
          "frequencies": 380,
          "sex": "M",
          "year": 1896
         },
         {
          "frequencies": 1903,
          "sex": "M",
          "year": 1900
         },
         {
          "frequencies": 1285,
          "sex": "M",
          "year": 1904
         },
         {
          "frequencies": 1722,
          "sex": "M",
          "year": 1906
         },
         {
          "frequencies": 3054,
          "sex": "M",
          "year": 1908
         },
         {
          "frequencies": 3953,
          "sex": "M",
          "year": 1912
         },
         {
          "frequencies": 4158,
          "sex": "M",
          "year": 1920
         },
         {
          "frequencies": 4989,
          "sex": "M",
          "year": 1924
         },
         {
          "frequencies": 4588,
          "sex": "M",
          "year": 1928
         },
         {
          "frequencies": 2622,
          "sex": "M",
          "year": 1932
         },
         {
          "frequencies": 6038,
          "sex": "M",
          "year": 1936
         },
         {
          "frequencies": 5777,
          "sex": "M",
          "year": 1948
         },
         {
          "frequencies": 6773,
          "sex": "M",
          "year": 1952
         },
         {
          "frequencies": 4234,
          "sex": "M",
          "year": 1956
         },
         {
          "frequencies": 6684,
          "sex": "M",
          "year": 1960
         },
         {
          "frequencies": 6354,
          "sex": "M",
          "year": 1964
         },
         {
          "frequencies": 6811,
          "sex": "M",
          "year": 1968
         },
         {
          "frequencies": 8111,
          "sex": "M",
          "year": 1972
         },
         {
          "frequencies": 6469,
          "sex": "M",
          "year": 1976
         },
         {
          "frequencies": 5435,
          "sex": "M",
          "year": 1980
         },
         {
          "frequencies": 7007,
          "sex": "M",
          "year": 1984
         },
         {
          "frequencies": 8494,
          "sex": "M",
          "year": 1988
         },
         {
          "frequencies": 8853,
          "sex": "M",
          "year": 1992
         },
         {
          "frequencies": 8772,
          "sex": "M",
          "year": 1996
         },
         {
          "frequencies": 8390,
          "sex": "M",
          "year": 2000
         },
         {
          "frequencies": 7897,
          "sex": "M",
          "year": 2004
         },
         {
          "frequencies": 7786,
          "sex": "M",
          "year": 2008
         },
         {
          "frequencies": 7105,
          "sex": "M",
          "year": 2012
         },
         {
          "frequencies": 7465,
          "sex": "M",
          "year": 2016
         }
        ]
       },
       "encoding": {
        "color": {
         "field": "sex",
         "type": "nominal"
        },
        "x": {
         "field": "year",
         "type": "quantitative"
        },
        "y": {
         "aggregate": "sum",
         "field": "frequencies",
         "stack": "normalize",
         "type": "quantitative"
        }
       },
       "mark": "bar"
      },
      "image/png": "[encoded data removed]",
      "text/plain": [
       "<VegaLite 3 object>\n",
       "\n",
       "If you see this message, it means the renderer has not been properly enabled\n",
       "for the frontend that you are using. For more information, see\n",
       "https://altair-viz.github.io/user_guide/troubleshooting.html\n"
      ]
     },
     "execution_count": 9,
     "metadata": {},
     "output_type": "execute_result"
    }
   ],
   "source": [
    "alt.Chart(female).mark_bar().encode(\n",
    "    x='year',\n",
    "    y=alt.Y('sum(frequencies)', stack=\"normalize\"),\n",
    "    color=alt.Color('sex'),\n",
    ")"
   ]
  },
  {
   "cell_type": "code",
   "execution_count": 10,
   "metadata": {},
   "outputs": [
    {
     "data": {
      "application/vnd.vegalite.v3+json": {
       "$schema": "https://vega.github.io/schema/vega-lite/v3.4.0.json",
       "config": {
        "axis": {
         "labelFontSize": 16,
         "titleFontSize": 20
        },
        "legend": {
         "cornerRadius": 10,
         "fillColor": "#EEEEEE",
         "orient": "top-left",
         "padding": 10,
         "strokeColor": "gray"
        },
        "mark": {
         "tooltip": null
        },
        "title": {
         "fontSize": 20
        },
        "view": {
         "height": 300,
         "width": 400
        }
       },
       "data": {
        "name": "data-2a1c3427a6b7393d133244e49bb8a6be"
       },
       "datasets": {
        "data-2a1c3427a6b7393d133244e49bb8a6be": [
         {
          "frequencies": 0,
          "sex": "F",
          "year": 1896
         },
         {
          "frequencies": 33,
          "sex": "F",
          "year": 1900
         },
         {
          "frequencies": 16,
          "sex": "F",
          "year": 1904
         },
         {
          "frequencies": 11,
          "sex": "F",
          "year": 1906
         },
         {
          "frequencies": 47,
          "sex": "F",
          "year": 1908
         },
         {
          "frequencies": 87,
          "sex": "F",
          "year": 1912
         },
         {
          "frequencies": 134,
          "sex": "F",
          "year": 1920
         },
         {
          "frequencies": 244,
          "sex": "F",
          "year": 1924
         },
         {
          "frequencies": 404,
          "sex": "F",
          "year": 1928
         },
         {
          "frequencies": 347,
          "sex": "F",
          "year": 1932
         },
         {
          "frequencies": 468,
          "sex": "F",
          "year": 1936
         },
         {
          "frequencies": 628,
          "sex": "F",
          "year": 1948
         },
         {
          "frequencies": 1497,
          "sex": "F",
          "year": 1952
         },
         {
          "frequencies": 893,
          "sex": "F",
          "year": 1956
         },
         {
          "frequencies": 1435,
          "sex": "F",
          "year": 1960
         },
         {
          "frequencies": 1348,
          "sex": "F",
          "year": 1964
         },
         {
          "frequencies": 1777,
          "sex": "F",
          "year": 1968
         },
         {
          "frequencies": 2193,
          "sex": "F",
          "year": 1972
         },
         {
          "frequencies": 2172,
          "sex": "F",
          "year": 1976
         },
         {
          "frequencies": 1756,
          "sex": "F",
          "year": 1980
         },
         {
          "frequencies": 2447,
          "sex": "F",
          "year": 1984
         },
         {
          "frequencies": 3543,
          "sex": "F",
          "year": 1988
         },
         {
          "frequencies": 4124,
          "sex": "F",
          "year": 1992
         },
         {
          "frequencies": 5008,
          "sex": "F",
          "year": 1996
         },
         {
          "frequencies": 5431,
          "sex": "F",
          "year": 2000
         },
         {
          "frequencies": 5546,
          "sex": "F",
          "year": 2004
         },
         {
          "frequencies": 5816,
          "sex": "F",
          "year": 2008
         },
         {
          "frequencies": 5815,
          "sex": "F",
          "year": 2012
         },
         {
          "frequencies": 6223,
          "sex": "F",
          "year": 2016
         },
         {
          "frequencies": 380,
          "sex": "M",
          "year": 1896
         },
         {
          "frequencies": 1903,
          "sex": "M",
          "year": 1900
         },
         {
          "frequencies": 1285,
          "sex": "M",
          "year": 1904
         },
         {
          "frequencies": 1722,
          "sex": "M",
          "year": 1906
         },
         {
          "frequencies": 3054,
          "sex": "M",
          "year": 1908
         },
         {
          "frequencies": 3953,
          "sex": "M",
          "year": 1912
         },
         {
          "frequencies": 4158,
          "sex": "M",
          "year": 1920
         },
         {
          "frequencies": 4989,
          "sex": "M",
          "year": 1924
         },
         {
          "frequencies": 4588,
          "sex": "M",
          "year": 1928
         },
         {
          "frequencies": 2622,
          "sex": "M",
          "year": 1932
         },
         {
          "frequencies": 6038,
          "sex": "M",
          "year": 1936
         },
         {
          "frequencies": 5777,
          "sex": "M",
          "year": 1948
         },
         {
          "frequencies": 6773,
          "sex": "M",
          "year": 1952
         },
         {
          "frequencies": 4234,
          "sex": "M",
          "year": 1956
         },
         {
          "frequencies": 6684,
          "sex": "M",
          "year": 1960
         },
         {
          "frequencies": 6354,
          "sex": "M",
          "year": 1964
         },
         {
          "frequencies": 6811,
          "sex": "M",
          "year": 1968
         },
         {
          "frequencies": 8111,
          "sex": "M",
          "year": 1972
         },
         {
          "frequencies": 6469,
          "sex": "M",
          "year": 1976
         },
         {
          "frequencies": 5435,
          "sex": "M",
          "year": 1980
         },
         {
          "frequencies": 7007,
          "sex": "M",
          "year": 1984
         },
         {
          "frequencies": 8494,
          "sex": "M",
          "year": 1988
         },
         {
          "frequencies": 8853,
          "sex": "M",
          "year": 1992
         },
         {
          "frequencies": 8772,
          "sex": "M",
          "year": 1996
         },
         {
          "frequencies": 8390,
          "sex": "M",
          "year": 2000
         },
         {
          "frequencies": 7897,
          "sex": "M",
          "year": 2004
         },
         {
          "frequencies": 7786,
          "sex": "M",
          "year": 2008
         },
         {
          "frequencies": 7105,
          "sex": "M",
          "year": 2012
         },
         {
          "frequencies": 7465,
          "sex": "M",
          "year": 2016
         }
        ]
       },
       "encoding": {
        "color": {
         "field": "sex",
         "type": "nominal"
        },
        "tooltip": [
         {
          "field": "sex",
          "type": "nominal"
         },
         {
          "field": "frequencies",
          "type": "quantitative"
         }
        ],
        "x": {
         "aggregate": "sum",
         "axis": {
          "format": "%",
          "title": "Percentage"
         },
         "field": "frequencies",
         "stack": "normalize",
         "type": "quantitative"
        },
        "y": {
         "field": "year",
         "title": "Year",
         "type": "quantitative"
        }
       },
       "height": 300,
       "mark": {
        "size": 4,
        "type": "bar"
       },
       "selection": {
        "selector001": {
         "bind": "scales",
         "encodings": [
          "x",
          "y"
         ],
         "type": "interval"
        }
       },
       "title": "Changes in female athletes participation in the Olympics",
       "width": 600
      },
      "image/png": "[encoded data removed]",
      "text/plain": [
       "<VegaLite 3 object>\n",
       "\n",
       "If you see this message, it means the renderer has not been properly enabled\n",
       "for the frontend that you are using. For more information, see\n",
       "https://altair-viz.github.io/user_guide/troubleshooting.html\n"
      ]
     },
     "execution_count": 10,
     "metadata": {},
     "output_type": "execute_result"
    }
   ],
   "source": [
    "\n",
    "alt.Chart(female, title = 'Changes in female athletes participation in the Olympics').mark_bar(size=4).encode(\n",
    "    x=alt.X('sum(frequencies)', stack=\"normalize\", axis=alt.Axis(format='%', title='Percentage')),\n",
    "    y=alt.Y('year',title='Year'),\n",
    "    color=alt.Color('sex'),\n",
    "    tooltip=['sex','frequencies']).interactive().properties(\n",
    "    width=600,\n",
    "    height=300).configure_title(\n",
    "    fontSize=20).configure_axis(\n",
    "    labelFontSize=16,\n",
    "    titleFontSize=20\n",
    ").configure_legend(\n",
    "    strokeColor='gray',\n",
    "    fillColor='#EEEEEE',\n",
    "    padding=10,\n",
    "    cornerRadius=10,\n",
    "    orient='top-left'\n",
    ")"
   ]
  },
  {
   "cell_type": "code",
   "execution_count": 11,
   "metadata": {},
   "outputs": [],
   "source": [
    "legend=alt.Legend(orient=\"left\")"
   ]
  },
  {
   "cell_type": "code",
   "execution_count": 12,
   "metadata": {},
   "outputs": [
    {
     "data": {
      "text/plain": [
       "222552"
      ]
     },
     "execution_count": 12,
     "metadata": {},
     "output_type": "execute_result"
    }
   ],
   "source": [
    "summer.Year.astype('category')\n",
    "len(summer.Year)"
   ]
  },
  {
   "cell_type": "code",
   "execution_count": 13,
   "metadata": {},
   "outputs": [
    {
     "data": {
      "text/html": [
       "<div>\n",
       "<style scoped>\n",
       "    .dataframe tbody tr th:only-of-type {\n",
       "        vertical-align: middle;\n",
       "    }\n",
       "\n",
       "    .dataframe tbody tr th {\n",
       "        vertical-align: top;\n",
       "    }\n",
       "\n",
       "    .dataframe thead th {\n",
       "        text-align: right;\n",
       "    }\n",
       "</style>\n",
       "<table border=\"1\" class=\"dataframe\">\n",
       "  <thead>\n",
       "    <tr style=\"text-align: right;\">\n",
       "      <th></th>\n",
       "      <th>Year</th>\n",
       "      <th>Season</th>\n",
       "    </tr>\n",
       "  </thead>\n",
       "  <tbody>\n",
       "    <tr>\n",
       "      <td>0</td>\n",
       "      <td>1992</td>\n",
       "      <td>Summer</td>\n",
       "    </tr>\n",
       "    <tr>\n",
       "      <td>1</td>\n",
       "      <td>2012</td>\n",
       "      <td>Summer</td>\n",
       "    </tr>\n",
       "    <tr>\n",
       "      <td>2</td>\n",
       "      <td>1920</td>\n",
       "      <td>Summer</td>\n",
       "    </tr>\n",
       "    <tr>\n",
       "      <td>3</td>\n",
       "      <td>1900</td>\n",
       "      <td>Summer</td>\n",
       "    </tr>\n",
       "    <tr>\n",
       "      <td>26</td>\n",
       "      <td>1932</td>\n",
       "      <td>Summer</td>\n",
       "    </tr>\n",
       "  </tbody>\n",
       "</table>\n",
       "</div>"
      ],
      "text/plain": [
       "    Year  Season\n",
       "0   1992  Summer\n",
       "1   2012  Summer\n",
       "2   1920  Summer\n",
       "3   1900  Summer\n",
       "26  1932  Summer"
      ]
     },
     "execution_count": 13,
     "metadata": {},
     "output_type": "execute_result"
    }
   ],
   "source": [
    "df1 = summer[['Year','Season']]\n",
    "df1.head()"
   ]
  },
  {
   "cell_type": "code",
   "execution_count": 14,
   "metadata": {},
   "outputs": [
    {
     "data": {
      "text/html": [
       "<div>\n",
       "<style scoped>\n",
       "    .dataframe tbody tr th:only-of-type {\n",
       "        vertical-align: middle;\n",
       "    }\n",
       "\n",
       "    .dataframe tbody tr th {\n",
       "        vertical-align: top;\n",
       "    }\n",
       "\n",
       "    .dataframe thead th {\n",
       "        text-align: right;\n",
       "    }\n",
       "</style>\n",
       "<table border=\"1\" class=\"dataframe\">\n",
       "  <thead>\n",
       "    <tr style=\"text-align: right;\">\n",
       "      <th></th>\n",
       "      <th>ID</th>\n",
       "      <th>Name</th>\n",
       "      <th>Sex</th>\n",
       "      <th>Age</th>\n",
       "      <th>Height</th>\n",
       "      <th>Weight</th>\n",
       "      <th>Team</th>\n",
       "      <th>NOC</th>\n",
       "      <th>Games</th>\n",
       "      <th>Year</th>\n",
       "      <th>Season</th>\n",
       "      <th>City</th>\n",
       "      <th>Sport</th>\n",
       "      <th>Event</th>\n",
       "      <th>Medal</th>\n",
       "    </tr>\n",
       "  </thead>\n",
       "  <tbody>\n",
       "    <tr>\n",
       "      <td>82</td>\n",
       "      <td>23</td>\n",
       "      <td>Fritz Aanes</td>\n",
       "      <td>M</td>\n",
       "      <td>26.0</td>\n",
       "      <td>187.0</td>\n",
       "      <td>89.0</td>\n",
       "      <td>Norway</td>\n",
       "      <td>NOR</td>\n",
       "      <td>2004 Summer</td>\n",
       "      <td>2004</td>\n",
       "      <td>Summer</td>\n",
       "      <td>Athina</td>\n",
       "      <td>Wrestling</td>\n",
       "      <td>Wrestling Men's Light-Heavyweight, Greco-Roman</td>\n",
       "      <td>NaN</td>\n",
       "    </tr>\n",
       "    <tr>\n",
       "      <td>135</td>\n",
       "      <td>49</td>\n",
       "      <td>Moonika Aava</td>\n",
       "      <td>F</td>\n",
       "      <td>24.0</td>\n",
       "      <td>168.0</td>\n",
       "      <td>65.0</td>\n",
       "      <td>Estonia</td>\n",
       "      <td>EST</td>\n",
       "      <td>2004 Summer</td>\n",
       "      <td>2004</td>\n",
       "      <td>Summer</td>\n",
       "      <td>Athina</td>\n",
       "      <td>Athletics</td>\n",
       "      <td>Athletics Women's Javelin Throw</td>\n",
       "      <td>NaN</td>\n",
       "    </tr>\n",
       "  </tbody>\n",
       "</table>\n",
       "</div>"
      ],
      "text/plain": [
       "     ID          Name Sex   Age  Height  Weight     Team  NOC        Games  \\\n",
       "82   23   Fritz Aanes   M  26.0   187.0    89.0   Norway  NOR  2004 Summer   \n",
       "135  49  Moonika Aava   F  24.0   168.0    65.0  Estonia  EST  2004 Summer   \n",
       "\n",
       "     Year  Season    City      Sport  \\\n",
       "82   2004  Summer  Athina  Wrestling   \n",
       "135  2004  Summer  Athina  Athletics   \n",
       "\n",
       "                                              Event Medal  \n",
       "82   Wrestling Men's Light-Heavyweight, Greco-Roman   NaN  \n",
       "135                 Athletics Women's Javelin Throw   NaN  "
      ]
     },
     "execution_count": 14,
     "metadata": {},
     "output_type": "execute_result"
    }
   ],
   "source": [
    "summer.loc[summer['Year'] == 2004].head(2)"
   ]
  },
  {
   "cell_type": "code",
   "execution_count": 15,
   "metadata": {},
   "outputs": [
    {
     "data": {
      "text/html": [
       "<div>\n",
       "<style scoped>\n",
       "    .dataframe tbody tr th:only-of-type {\n",
       "        vertical-align: middle;\n",
       "    }\n",
       "\n",
       "    .dataframe tbody tr th {\n",
       "        vertical-align: top;\n",
       "    }\n",
       "\n",
       "    .dataframe thead th {\n",
       "        text-align: right;\n",
       "    }\n",
       "</style>\n",
       "<table border=\"1\" class=\"dataframe\">\n",
       "  <thead>\n",
       "    <tr style=\"text-align: right;\">\n",
       "      <th></th>\n",
       "      <th>ID</th>\n",
       "      <th>Name</th>\n",
       "      <th>Sex</th>\n",
       "      <th>Age</th>\n",
       "      <th>Height</th>\n",
       "      <th>Weight</th>\n",
       "      <th>Team</th>\n",
       "      <th>NOC</th>\n",
       "      <th>Games</th>\n",
       "      <th>Year</th>\n",
       "      <th>Season</th>\n",
       "      <th>City</th>\n",
       "      <th>Sport</th>\n",
       "      <th>Event</th>\n",
       "      <th>Medal</th>\n",
       "    </tr>\n",
       "  </thead>\n",
       "  <tbody>\n",
       "    <tr>\n",
       "      <td>82</td>\n",
       "      <td>23</td>\n",
       "      <td>Fritz Aanes</td>\n",
       "      <td>M</td>\n",
       "      <td>26.0</td>\n",
       "      <td>187.0</td>\n",
       "      <td>89.0</td>\n",
       "      <td>Norway</td>\n",
       "      <td>NOR</td>\n",
       "      <td>2004 Summer</td>\n",
       "      <td>2004</td>\n",
       "      <td>Summer</td>\n",
       "      <td>Athina</td>\n",
       "      <td>Wrestling</td>\n",
       "      <td>Wrestling Men's Light-Heavyweight, Greco-Roman</td>\n",
       "      <td>NaN</td>\n",
       "    </tr>\n",
       "    <tr>\n",
       "      <td>135</td>\n",
       "      <td>49</td>\n",
       "      <td>Moonika Aava</td>\n",
       "      <td>F</td>\n",
       "      <td>24.0</td>\n",
       "      <td>168.0</td>\n",
       "      <td>65.0</td>\n",
       "      <td>Estonia</td>\n",
       "      <td>EST</td>\n",
       "      <td>2004 Summer</td>\n",
       "      <td>2004</td>\n",
       "      <td>Summer</td>\n",
       "      <td>Athina</td>\n",
       "      <td>Athletics</td>\n",
       "      <td>Athletics Women's Javelin Throw</td>\n",
       "      <td>NaN</td>\n",
       "    </tr>\n",
       "  </tbody>\n",
       "</table>\n",
       "</div>"
      ],
      "text/plain": [
       "     ID          Name Sex   Age  Height  Weight     Team  NOC        Games  \\\n",
       "82   23   Fritz Aanes   M  26.0   187.0    89.0   Norway  NOR  2004 Summer   \n",
       "135  49  Moonika Aava   F  24.0   168.0    65.0  Estonia  EST  2004 Summer   \n",
       "\n",
       "     Year  Season    City      Sport  \\\n",
       "82   2004  Summer  Athina  Wrestling   \n",
       "135  2004  Summer  Athina  Athletics   \n",
       "\n",
       "                                              Event Medal  \n",
       "82   Wrestling Men's Light-Heavyweight, Greco-Roman   NaN  \n",
       "135                 Athletics Women's Javelin Throw   NaN  "
      ]
     },
     "execution_count": 15,
     "metadata": {},
     "output_type": "execute_result"
    }
   ],
   "source": [
    "summer[summer.Year == 2004].head(2)"
   ]
  },
  {
   "cell_type": "code",
   "execution_count": 16,
   "metadata": {},
   "outputs": [
    {
     "data": {
      "text/plain": [
       "58"
      ]
     },
     "execution_count": 16,
     "metadata": {},
     "output_type": "execute_result"
    }
   ],
   "source": [
    "len(female)"
   ]
  },
  {
   "cell_type": "code",
   "execution_count": 17,
   "metadata": {},
   "outputs": [
    {
     "data": {
      "application/vnd.vegalite.v3+json": {
       "$schema": "https://vega.github.io/schema/vega-lite/v3.4.0.json",
       "config": {
        "mark": {
         "tooltip": null
        },
        "view": {
         "height": 300,
         "width": 400
        }
       },
       "data": {
        "name": "data-2a1c3427a6b7393d133244e49bb8a6be"
       },
       "datasets": {
        "data-2a1c3427a6b7393d133244e49bb8a6be": [
         {
          "frequencies": 0,
          "sex": "F",
          "year": 1896
         },
         {
          "frequencies": 33,
          "sex": "F",
          "year": 1900
         },
         {
          "frequencies": 16,
          "sex": "F",
          "year": 1904
         },
         {
          "frequencies": 11,
          "sex": "F",
          "year": 1906
         },
         {
          "frequencies": 47,
          "sex": "F",
          "year": 1908
         },
         {
          "frequencies": 87,
          "sex": "F",
          "year": 1912
         },
         {
          "frequencies": 134,
          "sex": "F",
          "year": 1920
         },
         {
          "frequencies": 244,
          "sex": "F",
          "year": 1924
         },
         {
          "frequencies": 404,
          "sex": "F",
          "year": 1928
         },
         {
          "frequencies": 347,
          "sex": "F",
          "year": 1932
         },
         {
          "frequencies": 468,
          "sex": "F",
          "year": 1936
         },
         {
          "frequencies": 628,
          "sex": "F",
          "year": 1948
         },
         {
          "frequencies": 1497,
          "sex": "F",
          "year": 1952
         },
         {
          "frequencies": 893,
          "sex": "F",
          "year": 1956
         },
         {
          "frequencies": 1435,
          "sex": "F",
          "year": 1960
         },
         {
          "frequencies": 1348,
          "sex": "F",
          "year": 1964
         },
         {
          "frequencies": 1777,
          "sex": "F",
          "year": 1968
         },
         {
          "frequencies": 2193,
          "sex": "F",
          "year": 1972
         },
         {
          "frequencies": 2172,
          "sex": "F",
          "year": 1976
         },
         {
          "frequencies": 1756,
          "sex": "F",
          "year": 1980
         },
         {
          "frequencies": 2447,
          "sex": "F",
          "year": 1984
         },
         {
          "frequencies": 3543,
          "sex": "F",
          "year": 1988
         },
         {
          "frequencies": 4124,
          "sex": "F",
          "year": 1992
         },
         {
          "frequencies": 5008,
          "sex": "F",
          "year": 1996
         },
         {
          "frequencies": 5431,
          "sex": "F",
          "year": 2000
         },
         {
          "frequencies": 5546,
          "sex": "F",
          "year": 2004
         },
         {
          "frequencies": 5816,
          "sex": "F",
          "year": 2008
         },
         {
          "frequencies": 5815,
          "sex": "F",
          "year": 2012
         },
         {
          "frequencies": 6223,
          "sex": "F",
          "year": 2016
         },
         {
          "frequencies": 380,
          "sex": "M",
          "year": 1896
         },
         {
          "frequencies": 1903,
          "sex": "M",
          "year": 1900
         },
         {
          "frequencies": 1285,
          "sex": "M",
          "year": 1904
         },
         {
          "frequencies": 1722,
          "sex": "M",
          "year": 1906
         },
         {
          "frequencies": 3054,
          "sex": "M",
          "year": 1908
         },
         {
          "frequencies": 3953,
          "sex": "M",
          "year": 1912
         },
         {
          "frequencies": 4158,
          "sex": "M",
          "year": 1920
         },
         {
          "frequencies": 4989,
          "sex": "M",
          "year": 1924
         },
         {
          "frequencies": 4588,
          "sex": "M",
          "year": 1928
         },
         {
          "frequencies": 2622,
          "sex": "M",
          "year": 1932
         },
         {
          "frequencies": 6038,
          "sex": "M",
          "year": 1936
         },
         {
          "frequencies": 5777,
          "sex": "M",
          "year": 1948
         },
         {
          "frequencies": 6773,
          "sex": "M",
          "year": 1952
         },
         {
          "frequencies": 4234,
          "sex": "M",
          "year": 1956
         },
         {
          "frequencies": 6684,
          "sex": "M",
          "year": 1960
         },
         {
          "frequencies": 6354,
          "sex": "M",
          "year": 1964
         },
         {
          "frequencies": 6811,
          "sex": "M",
          "year": 1968
         },
         {
          "frequencies": 8111,
          "sex": "M",
          "year": 1972
         },
         {
          "frequencies": 6469,
          "sex": "M",
          "year": 1976
         },
         {
          "frequencies": 5435,
          "sex": "M",
          "year": 1980
         },
         {
          "frequencies": 7007,
          "sex": "M",
          "year": 1984
         },
         {
          "frequencies": 8494,
          "sex": "M",
          "year": 1988
         },
         {
          "frequencies": 8853,
          "sex": "M",
          "year": 1992
         },
         {
          "frequencies": 8772,
          "sex": "M",
          "year": 1996
         },
         {
          "frequencies": 8390,
          "sex": "M",
          "year": 2000
         },
         {
          "frequencies": 7897,
          "sex": "M",
          "year": 2004
         },
         {
          "frequencies": 7786,
          "sex": "M",
          "year": 2008
         },
         {
          "frequencies": 7105,
          "sex": "M",
          "year": 2012
         },
         {
          "frequencies": 7465,
          "sex": "M",
          "year": 2016
         }
        ]
       },
       "encoding": {
        "color": {
         "field": "sex",
         "type": "nominal"
        },
        "tooltip": [
         {
          "field": "sex",
          "type": "nominal"
         },
         {
          "field": "frequencies",
          "type": "quantitative"
         }
        ],
        "x": {
         "field": "year",
         "type": "nominal"
        },
        "y": {
         "aggregate": "sum",
         "field": "frequencies",
         "type": "quantitative"
        }
       },
       "mark": "area"
      },
      "image/png": "[encoded data removed]",
      "text/plain": [
       "<VegaLite 3 object>\n",
       "\n",
       "If you see this message, it means the renderer has not been properly enabled\n",
       "for the frontend that you are using. For more information, see\n",
       "https://altair-viz.github.io/user_guide/troubleshooting.html\n"
      ]
     },
     "execution_count": 17,
     "metadata": {},
     "output_type": "execute_result"
    }
   ],
   "source": [
    "alt.Chart(female).mark_area().encode(\n",
    "    x=\"year:N\",\n",
    "    y=\"sum(frequencies):Q\",\n",
    "    color=\"sex:N\",\n",
    "    tooltip=['sex','frequencies']\n",
    ")"
   ]
  },
  {
   "cell_type": "code",
   "execution_count": 18,
   "metadata": {},
   "outputs": [],
   "source": [
    "female_dcast=pd.read_csv('/Users/Tal/Desktop/2019 Fall/Data Visualization/final project/120-years-of-olympic-history-athletes-and-results/female_dcast.csv')"
   ]
  },
  {
   "cell_type": "code",
   "execution_count": 19,
   "metadata": {},
   "outputs": [
    {
     "data": {
      "text/html": [
       "<div>\n",
       "<style scoped>\n",
       "    .dataframe tbody tr th:only-of-type {\n",
       "        vertical-align: middle;\n",
       "    }\n",
       "\n",
       "    .dataframe tbody tr th {\n",
       "        vertical-align: top;\n",
       "    }\n",
       "\n",
       "    .dataframe thead th {\n",
       "        text-align: right;\n",
       "    }\n",
       "</style>\n",
       "<table border=\"1\" class=\"dataframe\">\n",
       "  <thead>\n",
       "    <tr style=\"text-align: right;\">\n",
       "      <th></th>\n",
       "      <th>Unnamed: 0</th>\n",
       "      <th>year</th>\n",
       "      <th>F</th>\n",
       "      <th>M</th>\n",
       "      <th>all</th>\n",
       "      <th>f_prct</th>\n",
       "    </tr>\n",
       "  </thead>\n",
       "  <tbody>\n",
       "    <tr>\n",
       "      <td>0</td>\n",
       "      <td>1</td>\n",
       "      <td>1896</td>\n",
       "      <td>0</td>\n",
       "      <td>380</td>\n",
       "      <td>380</td>\n",
       "      <td>0.000000</td>\n",
       "    </tr>\n",
       "    <tr>\n",
       "      <td>1</td>\n",
       "      <td>2</td>\n",
       "      <td>1900</td>\n",
       "      <td>33</td>\n",
       "      <td>1903</td>\n",
       "      <td>1936</td>\n",
       "      <td>0.017045</td>\n",
       "    </tr>\n",
       "    <tr>\n",
       "      <td>2</td>\n",
       "      <td>3</td>\n",
       "      <td>1904</td>\n",
       "      <td>16</td>\n",
       "      <td>1285</td>\n",
       "      <td>1301</td>\n",
       "      <td>0.012298</td>\n",
       "    </tr>\n",
       "    <tr>\n",
       "      <td>3</td>\n",
       "      <td>4</td>\n",
       "      <td>1906</td>\n",
       "      <td>11</td>\n",
       "      <td>1722</td>\n",
       "      <td>1733</td>\n",
       "      <td>0.006347</td>\n",
       "    </tr>\n",
       "    <tr>\n",
       "      <td>4</td>\n",
       "      <td>5</td>\n",
       "      <td>1908</td>\n",
       "      <td>47</td>\n",
       "      <td>3054</td>\n",
       "      <td>3101</td>\n",
       "      <td>0.015156</td>\n",
       "    </tr>\n",
       "  </tbody>\n",
       "</table>\n",
       "</div>"
      ],
      "text/plain": [
       "   Unnamed: 0  year   F     M   all    f_prct\n",
       "0           1  1896   0   380   380  0.000000\n",
       "1           2  1900  33  1903  1936  0.017045\n",
       "2           3  1904  16  1285  1301  0.012298\n",
       "3           4  1906  11  1722  1733  0.006347\n",
       "4           5  1908  47  3054  3101  0.015156"
      ]
     },
     "execution_count": 19,
     "metadata": {},
     "output_type": "execute_result"
    }
   ],
   "source": [
    "female_dcast.head()"
   ]
  },
  {
   "cell_type": "code",
   "execution_count": 20,
   "metadata": {},
   "outputs": [],
   "source": [
    "female_dcast = female_dcast.drop(female_dcast.columns[[0]], axis=1)"
   ]
  },
  {
   "cell_type": "code",
   "execution_count": 21,
   "metadata": {},
   "outputs": [
    {
     "data": {
      "text/html": [
       "<div>\n",
       "<style scoped>\n",
       "    .dataframe tbody tr th:only-of-type {\n",
       "        vertical-align: middle;\n",
       "    }\n",
       "\n",
       "    .dataframe tbody tr th {\n",
       "        vertical-align: top;\n",
       "    }\n",
       "\n",
       "    .dataframe thead th {\n",
       "        text-align: right;\n",
       "    }\n",
       "</style>\n",
       "<table border=\"1\" class=\"dataframe\">\n",
       "  <thead>\n",
       "    <tr style=\"text-align: right;\">\n",
       "      <th></th>\n",
       "      <th>year</th>\n",
       "      <th>F</th>\n",
       "      <th>M</th>\n",
       "      <th>all</th>\n",
       "      <th>f_prct</th>\n",
       "    </tr>\n",
       "  </thead>\n",
       "  <tbody>\n",
       "    <tr>\n",
       "      <td>0</td>\n",
       "      <td>1896</td>\n",
       "      <td>0</td>\n",
       "      <td>380</td>\n",
       "      <td>380</td>\n",
       "      <td>0.000000</td>\n",
       "    </tr>\n",
       "    <tr>\n",
       "      <td>1</td>\n",
       "      <td>1900</td>\n",
       "      <td>33</td>\n",
       "      <td>1903</td>\n",
       "      <td>1936</td>\n",
       "      <td>0.017045</td>\n",
       "    </tr>\n",
       "    <tr>\n",
       "      <td>2</td>\n",
       "      <td>1904</td>\n",
       "      <td>16</td>\n",
       "      <td>1285</td>\n",
       "      <td>1301</td>\n",
       "      <td>0.012298</td>\n",
       "    </tr>\n",
       "    <tr>\n",
       "      <td>3</td>\n",
       "      <td>1906</td>\n",
       "      <td>11</td>\n",
       "      <td>1722</td>\n",
       "      <td>1733</td>\n",
       "      <td>0.006347</td>\n",
       "    </tr>\n",
       "    <tr>\n",
       "      <td>4</td>\n",
       "      <td>1908</td>\n",
       "      <td>47</td>\n",
       "      <td>3054</td>\n",
       "      <td>3101</td>\n",
       "      <td>0.015156</td>\n",
       "    </tr>\n",
       "  </tbody>\n",
       "</table>\n",
       "</div>"
      ],
      "text/plain": [
       "   year   F     M   all    f_prct\n",
       "0  1896   0   380   380  0.000000\n",
       "1  1900  33  1903  1936  0.017045\n",
       "2  1904  16  1285  1301  0.012298\n",
       "3  1906  11  1722  1733  0.006347\n",
       "4  1908  47  3054  3101  0.015156"
      ]
     },
     "execution_count": 21,
     "metadata": {},
     "output_type": "execute_result"
    }
   ],
   "source": [
    "female_dcast.head()"
   ]
  },
  {
   "cell_type": "code",
   "execution_count": 22,
   "metadata": {},
   "outputs": [],
   "source": [
    "female_dcast_tidy_df=pd.melt(female_dcast,id_vars=['year','all','f_prct'],var_name='sex',value_name='frequencies')"
   ]
  },
  {
   "cell_type": "code",
   "execution_count": 23,
   "metadata": {},
   "outputs": [
    {
     "data": {
      "text/html": [
       "<div>\n",
       "<style scoped>\n",
       "    .dataframe tbody tr th:only-of-type {\n",
       "        vertical-align: middle;\n",
       "    }\n",
       "\n",
       "    .dataframe tbody tr th {\n",
       "        vertical-align: top;\n",
       "    }\n",
       "\n",
       "    .dataframe thead th {\n",
       "        text-align: right;\n",
       "    }\n",
       "</style>\n",
       "<table border=\"1\" class=\"dataframe\">\n",
       "  <thead>\n",
       "    <tr style=\"text-align: right;\">\n",
       "      <th></th>\n",
       "      <th>year</th>\n",
       "      <th>all</th>\n",
       "      <th>f_prct</th>\n",
       "      <th>sex</th>\n",
       "      <th>frequencies</th>\n",
       "    </tr>\n",
       "  </thead>\n",
       "  <tbody>\n",
       "    <tr>\n",
       "      <td>0</td>\n",
       "      <td>1896</td>\n",
       "      <td>380</td>\n",
       "      <td>0.000000</td>\n",
       "      <td>F</td>\n",
       "      <td>0</td>\n",
       "    </tr>\n",
       "    <tr>\n",
       "      <td>1</td>\n",
       "      <td>1900</td>\n",
       "      <td>1936</td>\n",
       "      <td>0.017045</td>\n",
       "      <td>F</td>\n",
       "      <td>33</td>\n",
       "    </tr>\n",
       "    <tr>\n",
       "      <td>2</td>\n",
       "      <td>1904</td>\n",
       "      <td>1301</td>\n",
       "      <td>0.012298</td>\n",
       "      <td>F</td>\n",
       "      <td>16</td>\n",
       "    </tr>\n",
       "    <tr>\n",
       "      <td>3</td>\n",
       "      <td>1906</td>\n",
       "      <td>1733</td>\n",
       "      <td>0.006347</td>\n",
       "      <td>F</td>\n",
       "      <td>11</td>\n",
       "    </tr>\n",
       "    <tr>\n",
       "      <td>4</td>\n",
       "      <td>1908</td>\n",
       "      <td>3101</td>\n",
       "      <td>0.015156</td>\n",
       "      <td>F</td>\n",
       "      <td>47</td>\n",
       "    </tr>\n",
       "  </tbody>\n",
       "</table>\n",
       "</div>"
      ],
      "text/plain": [
       "   year   all    f_prct sex  frequencies\n",
       "0  1896   380  0.000000   F            0\n",
       "1  1900  1936  0.017045   F           33\n",
       "2  1904  1301  0.012298   F           16\n",
       "3  1906  1733  0.006347   F           11\n",
       "4  1908  3101  0.015156   F           47"
      ]
     },
     "execution_count": 23,
     "metadata": {},
     "output_type": "execute_result"
    }
   ],
   "source": [
    "female_dcast_tidy_df.head()"
   ]
  },
  {
   "cell_type": "code",
   "execution_count": 24,
   "metadata": {},
   "outputs": [
    {
     "data": {
      "text/html": [
       "<div>\n",
       "<style scoped>\n",
       "    .dataframe tbody tr th:only-of-type {\n",
       "        vertical-align: middle;\n",
       "    }\n",
       "\n",
       "    .dataframe tbody tr th {\n",
       "        vertical-align: top;\n",
       "    }\n",
       "\n",
       "    .dataframe thead th {\n",
       "        text-align: right;\n",
       "    }\n",
       "</style>\n",
       "<table border=\"1\" class=\"dataframe\">\n",
       "  <thead>\n",
       "    <tr style=\"text-align: right;\">\n",
       "      <th></th>\n",
       "      <th>year</th>\n",
       "      <th>all</th>\n",
       "      <th>f_prct</th>\n",
       "      <th>sex</th>\n",
       "      <th>frequencies</th>\n",
       "      <th>female_percent</th>\n",
       "    </tr>\n",
       "  </thead>\n",
       "  <tbody>\n",
       "    <tr>\n",
       "      <td>53</td>\n",
       "      <td>2000</td>\n",
       "      <td>13821</td>\n",
       "      <td>0.392953</td>\n",
       "      <td>M</td>\n",
       "      <td>8390</td>\n",
       "      <td>39.3</td>\n",
       "    </tr>\n",
       "    <tr>\n",
       "      <td>54</td>\n",
       "      <td>2004</td>\n",
       "      <td>13443</td>\n",
       "      <td>0.412557</td>\n",
       "      <td>M</td>\n",
       "      <td>7897</td>\n",
       "      <td>41.3</td>\n",
       "    </tr>\n",
       "    <tr>\n",
       "      <td>55</td>\n",
       "      <td>2008</td>\n",
       "      <td>13602</td>\n",
       "      <td>0.427584</td>\n",
       "      <td>M</td>\n",
       "      <td>7786</td>\n",
       "      <td>42.8</td>\n",
       "    </tr>\n",
       "    <tr>\n",
       "      <td>56</td>\n",
       "      <td>2012</td>\n",
       "      <td>12920</td>\n",
       "      <td>0.450077</td>\n",
       "      <td>M</td>\n",
       "      <td>7105</td>\n",
       "      <td>45.0</td>\n",
       "    </tr>\n",
       "    <tr>\n",
       "      <td>57</td>\n",
       "      <td>2016</td>\n",
       "      <td>13688</td>\n",
       "      <td>0.454632</td>\n",
       "      <td>M</td>\n",
       "      <td>7465</td>\n",
       "      <td>45.5</td>\n",
       "    </tr>\n",
       "  </tbody>\n",
       "</table>\n",
       "</div>"
      ],
      "text/plain": [
       "    year    all    f_prct sex  frequencies  female_percent\n",
       "53  2000  13821  0.392953   M         8390            39.3\n",
       "54  2004  13443  0.412557   M         7897            41.3\n",
       "55  2008  13602  0.427584   M         7786            42.8\n",
       "56  2012  12920  0.450077   M         7105            45.0\n",
       "57  2016  13688  0.454632   M         7465            45.5"
      ]
     },
     "execution_count": 24,
     "metadata": {},
     "output_type": "execute_result"
    }
   ],
   "source": [
    "female_dcast_tidy_df['female_percent']=female_dcast_tidy_df.f_prct.mul(100).round(1)\n",
    "female_dcast_tidy_df.tail()"
   ]
  },
  {
   "cell_type": "code",
   "execution_count": 25,
   "metadata": {},
   "outputs": [
    {
     "data": {
      "application/vnd.vegalite.v3+json": {
       "$schema": "https://vega.github.io/schema/vega-lite/v3.4.0.json",
       "config": {
        "mark": {
         "tooltip": null
        },
        "view": {
         "height": 300,
         "width": 400
        }
       },
       "data": {
        "name": "data-cf9ace0ae9bfdb6b38a0ded76d58288d"
       },
       "datasets": {
        "data-cf9ace0ae9bfdb6b38a0ded76d58288d": [
         {
          "all": 380,
          "f_prct": 0,
          "female_percent": 0,
          "frequencies": 0,
          "sex": "F",
          "year": 1896
         },
         {
          "all": 1936,
          "f_prct": 0.0170454545454545,
          "female_percent": 1.7,
          "frequencies": 33,
          "sex": "F",
          "year": 1900
         },
         {
          "all": 1301,
          "f_prct": 0.0122982321291314,
          "female_percent": 1.2,
          "frequencies": 16,
          "sex": "F",
          "year": 1904
         },
         {
          "all": 1733,
          "f_prct": 0.00634737449509521,
          "female_percent": 0.6,
          "frequencies": 11,
          "sex": "F",
          "year": 1906
         },
         {
          "all": 3101,
          "f_prct": 0.0151564011609158,
          "female_percent": 1.5,
          "frequencies": 47,
          "sex": "F",
          "year": 1908
         },
         {
          "all": 4040,
          "f_prct": 0.0215346534653465,
          "female_percent": 2.2,
          "frequencies": 87,
          "sex": "F",
          "year": 1912
         },
         {
          "all": 4292,
          "f_prct": 0.0312208760484623,
          "female_percent": 3.1,
          "frequencies": 134,
          "sex": "F",
          "year": 1920
         },
         {
          "all": 5233,
          "f_prct": 0.0466271737053316,
          "female_percent": 4.7,
          "frequencies": 244,
          "sex": "F",
          "year": 1924
         },
         {
          "all": 4992,
          "f_prct": 0.0809294871794872,
          "female_percent": 8.1,
          "frequencies": 404,
          "sex": "F",
          "year": 1928
         },
         {
          "all": 2969,
          "f_prct": 0.116874368474234,
          "female_percent": 11.7,
          "frequencies": 347,
          "sex": "F",
          "year": 1932
         },
         {
          "all": 6506,
          "f_prct": 0.0719335997540732,
          "female_percent": 7.2,
          "frequencies": 468,
          "sex": "F",
          "year": 1936
         },
         {
          "all": 6405,
          "f_prct": 0.09804839968774401,
          "female_percent": 9.8,
          "frequencies": 628,
          "sex": "F",
          "year": 1948
         },
         {
          "all": 8270,
          "f_prct": 0.18101571946795603,
          "female_percent": 18.1,
          "frequencies": 1497,
          "sex": "F",
          "year": 1952
         },
         {
          "all": 5127,
          "f_prct": 0.174175931343866,
          "female_percent": 17.4,
          "frequencies": 893,
          "sex": "F",
          "year": 1956
         },
         {
          "all": 8119,
          "f_prct": 0.17674590466806303,
          "female_percent": 17.7,
          "frequencies": 1435,
          "sex": "F",
          "year": 1960
         },
         {
          "all": 7702,
          "f_prct": 0.175019475460919,
          "female_percent": 17.5,
          "frequencies": 1348,
          "sex": "F",
          "year": 1964
         },
         {
          "all": 8588,
          "f_prct": 0.206916627852818,
          "female_percent": 20.7,
          "frequencies": 1777,
          "sex": "F",
          "year": 1968
         },
         {
          "all": 10304,
          "f_prct": 0.21282996894409897,
          "female_percent": 21.3,
          "frequencies": 2193,
          "sex": "F",
          "year": 1972
         },
         {
          "all": 8641,
          "f_prct": 0.25135979631987,
          "female_percent": 25.1,
          "frequencies": 2172,
          "sex": "F",
          "year": 1976
         },
         {
          "all": 7191,
          "f_prct": 0.24419413155333103,
          "female_percent": 24.4,
          "frequencies": 1756,
          "sex": "F",
          "year": 1980
         },
         {
          "all": 9454,
          "f_prct": 0.258832240321557,
          "female_percent": 25.9,
          "frequencies": 2447,
          "sex": "F",
          "year": 1984
         },
         {
          "all": 12037,
          "f_prct": 0.294342444130597,
          "female_percent": 29.4,
          "frequencies": 3543,
          "sex": "F",
          "year": 1988
         },
         {
          "all": 12977,
          "f_prct": 0.3177930184172,
          "female_percent": 31.8,
          "frequencies": 4124,
          "sex": "F",
          "year": 1992
         },
         {
          "all": 13780,
          "f_prct": 0.36342525399129205,
          "female_percent": 36.3,
          "frequencies": 5008,
          "sex": "F",
          "year": 1996
         },
         {
          "all": 13821,
          "f_prct": 0.392952753056942,
          "female_percent": 39.3,
          "frequencies": 5431,
          "sex": "F",
          "year": 2000
         },
         {
          "all": 13443,
          "f_prct": 0.412556720970022,
          "female_percent": 41.3,
          "frequencies": 5546,
          "sex": "F",
          "year": 2004
         },
         {
          "all": 13602,
          "f_prct": 0.42758417879723604,
          "female_percent": 42.8,
          "frequencies": 5816,
          "sex": "F",
          "year": 2008
         },
         {
          "all": 12920,
          "f_prct": 0.450077399380805,
          "female_percent": 45,
          "frequencies": 5815,
          "sex": "F",
          "year": 2012
         },
         {
          "all": 13688,
          "f_prct": 0.454631794272355,
          "female_percent": 45.5,
          "frequencies": 6223,
          "sex": "F",
          "year": 2016
         },
         {
          "all": 380,
          "f_prct": 0,
          "female_percent": 0,
          "frequencies": 380,
          "sex": "M",
          "year": 1896
         },
         {
          "all": 1936,
          "f_prct": 0.0170454545454545,
          "female_percent": 1.7,
          "frequencies": 1903,
          "sex": "M",
          "year": 1900
         },
         {
          "all": 1301,
          "f_prct": 0.0122982321291314,
          "female_percent": 1.2,
          "frequencies": 1285,
          "sex": "M",
          "year": 1904
         },
         {
          "all": 1733,
          "f_prct": 0.00634737449509521,
          "female_percent": 0.6,
          "frequencies": 1722,
          "sex": "M",
          "year": 1906
         },
         {
          "all": 3101,
          "f_prct": 0.0151564011609158,
          "female_percent": 1.5,
          "frequencies": 3054,
          "sex": "M",
          "year": 1908
         },
         {
          "all": 4040,
          "f_prct": 0.0215346534653465,
          "female_percent": 2.2,
          "frequencies": 3953,
          "sex": "M",
          "year": 1912
         },
         {
          "all": 4292,
          "f_prct": 0.0312208760484623,
          "female_percent": 3.1,
          "frequencies": 4158,
          "sex": "M",
          "year": 1920
         },
         {
          "all": 5233,
          "f_prct": 0.0466271737053316,
          "female_percent": 4.7,
          "frequencies": 4989,
          "sex": "M",
          "year": 1924
         },
         {
          "all": 4992,
          "f_prct": 0.0809294871794872,
          "female_percent": 8.1,
          "frequencies": 4588,
          "sex": "M",
          "year": 1928
         },
         {
          "all": 2969,
          "f_prct": 0.116874368474234,
          "female_percent": 11.7,
          "frequencies": 2622,
          "sex": "M",
          "year": 1932
         },
         {
          "all": 6506,
          "f_prct": 0.0719335997540732,
          "female_percent": 7.2,
          "frequencies": 6038,
          "sex": "M",
          "year": 1936
         },
         {
          "all": 6405,
          "f_prct": 0.09804839968774401,
          "female_percent": 9.8,
          "frequencies": 5777,
          "sex": "M",
          "year": 1948
         },
         {
          "all": 8270,
          "f_prct": 0.18101571946795603,
          "female_percent": 18.1,
          "frequencies": 6773,
          "sex": "M",
          "year": 1952
         },
         {
          "all": 5127,
          "f_prct": 0.174175931343866,
          "female_percent": 17.4,
          "frequencies": 4234,
          "sex": "M",
          "year": 1956
         },
         {
          "all": 8119,
          "f_prct": 0.17674590466806303,
          "female_percent": 17.7,
          "frequencies": 6684,
          "sex": "M",
          "year": 1960
         },
         {
          "all": 7702,
          "f_prct": 0.175019475460919,
          "female_percent": 17.5,
          "frequencies": 6354,
          "sex": "M",
          "year": 1964
         },
         {
          "all": 8588,
          "f_prct": 0.206916627852818,
          "female_percent": 20.7,
          "frequencies": 6811,
          "sex": "M",
          "year": 1968
         },
         {
          "all": 10304,
          "f_prct": 0.21282996894409897,
          "female_percent": 21.3,
          "frequencies": 8111,
          "sex": "M",
          "year": 1972
         },
         {
          "all": 8641,
          "f_prct": 0.25135979631987,
          "female_percent": 25.1,
          "frequencies": 6469,
          "sex": "M",
          "year": 1976
         },
         {
          "all": 7191,
          "f_prct": 0.24419413155333103,
          "female_percent": 24.4,
          "frequencies": 5435,
          "sex": "M",
          "year": 1980
         },
         {
          "all": 9454,
          "f_prct": 0.258832240321557,
          "female_percent": 25.9,
          "frequencies": 7007,
          "sex": "M",
          "year": 1984
         },
         {
          "all": 12037,
          "f_prct": 0.294342444130597,
          "female_percent": 29.4,
          "frequencies": 8494,
          "sex": "M",
          "year": 1988
         },
         {
          "all": 12977,
          "f_prct": 0.3177930184172,
          "female_percent": 31.8,
          "frequencies": 8853,
          "sex": "M",
          "year": 1992
         },
         {
          "all": 13780,
          "f_prct": 0.36342525399129205,
          "female_percent": 36.3,
          "frequencies": 8772,
          "sex": "M",
          "year": 1996
         },
         {
          "all": 13821,
          "f_prct": 0.392952753056942,
          "female_percent": 39.3,
          "frequencies": 8390,
          "sex": "M",
          "year": 2000
         },
         {
          "all": 13443,
          "f_prct": 0.412556720970022,
          "female_percent": 41.3,
          "frequencies": 7897,
          "sex": "M",
          "year": 2004
         },
         {
          "all": 13602,
          "f_prct": 0.42758417879723604,
          "female_percent": 42.8,
          "frequencies": 7786,
          "sex": "M",
          "year": 2008
         },
         {
          "all": 12920,
          "f_prct": 0.450077399380805,
          "female_percent": 45,
          "frequencies": 7105,
          "sex": "M",
          "year": 2012
         },
         {
          "all": 13688,
          "f_prct": 0.454631794272355,
          "female_percent": 45.5,
          "frequencies": 7465,
          "sex": "M",
          "year": 2016
         }
        ]
       },
       "encoding": {
        "color": {
         "field": "sex",
         "type": "nominal"
        },
        "x": {
         "field": "year",
         "type": "quantitative"
        },
        "y": {
         "aggregate": "sum",
         "field": "frequencies",
         "stack": "normalize",
         "type": "quantitative"
        }
       },
       "mark": "bar"
      },
      "image/png": "[encoded data removed]",
      "text/plain": [
       "<VegaLite 3 object>\n",
       "\n",
       "If you see this message, it means the renderer has not been properly enabled\n",
       "for the frontend that you are using. For more information, see\n",
       "https://altair-viz.github.io/user_guide/troubleshooting.html\n"
      ]
     },
     "execution_count": 25,
     "metadata": {},
     "output_type": "execute_result"
    }
   ],
   "source": [
    "alt.Chart(female_dcast_tidy_df).mark_bar().encode(\n",
    "    x='year',\n",
    "    y=alt.Y('sum(frequencies)', stack=\"normalize\"),\n",
    "    color=alt.Color('sex'),\n",
    ")"
   ]
  },
  {
   "cell_type": "code",
   "execution_count": 26,
   "metadata": {},
   "outputs": [
    {
     "data": {
      "application/vnd.vegalite.v3+json": {
       "$schema": "https://vega.github.io/schema/vega-lite/v3.4.0.json",
       "config": {
        "mark": {
         "tooltip": null
        },
        "view": {
         "height": 300,
         "width": 400
        }
       },
       "data": {
        "name": "data-cf9ace0ae9bfdb6b38a0ded76d58288d"
       },
       "datasets": {
        "data-cf9ace0ae9bfdb6b38a0ded76d58288d": [
         {
          "all": 380,
          "f_prct": 0,
          "female_percent": 0,
          "frequencies": 0,
          "sex": "F",
          "year": 1896
         },
         {
          "all": 1936,
          "f_prct": 0.0170454545454545,
          "female_percent": 1.7,
          "frequencies": 33,
          "sex": "F",
          "year": 1900
         },
         {
          "all": 1301,
          "f_prct": 0.0122982321291314,
          "female_percent": 1.2,
          "frequencies": 16,
          "sex": "F",
          "year": 1904
         },
         {
          "all": 1733,
          "f_prct": 0.00634737449509521,
          "female_percent": 0.6,
          "frequencies": 11,
          "sex": "F",
          "year": 1906
         },
         {
          "all": 3101,
          "f_prct": 0.0151564011609158,
          "female_percent": 1.5,
          "frequencies": 47,
          "sex": "F",
          "year": 1908
         },
         {
          "all": 4040,
          "f_prct": 0.0215346534653465,
          "female_percent": 2.2,
          "frequencies": 87,
          "sex": "F",
          "year": 1912
         },
         {
          "all": 4292,
          "f_prct": 0.0312208760484623,
          "female_percent": 3.1,
          "frequencies": 134,
          "sex": "F",
          "year": 1920
         },
         {
          "all": 5233,
          "f_prct": 0.0466271737053316,
          "female_percent": 4.7,
          "frequencies": 244,
          "sex": "F",
          "year": 1924
         },
         {
          "all": 4992,
          "f_prct": 0.0809294871794872,
          "female_percent": 8.1,
          "frequencies": 404,
          "sex": "F",
          "year": 1928
         },
         {
          "all": 2969,
          "f_prct": 0.116874368474234,
          "female_percent": 11.7,
          "frequencies": 347,
          "sex": "F",
          "year": 1932
         },
         {
          "all": 6506,
          "f_prct": 0.0719335997540732,
          "female_percent": 7.2,
          "frequencies": 468,
          "sex": "F",
          "year": 1936
         },
         {
          "all": 6405,
          "f_prct": 0.09804839968774401,
          "female_percent": 9.8,
          "frequencies": 628,
          "sex": "F",
          "year": 1948
         },
         {
          "all": 8270,
          "f_prct": 0.18101571946795603,
          "female_percent": 18.1,
          "frequencies": 1497,
          "sex": "F",
          "year": 1952
         },
         {
          "all": 5127,
          "f_prct": 0.174175931343866,
          "female_percent": 17.4,
          "frequencies": 893,
          "sex": "F",
          "year": 1956
         },
         {
          "all": 8119,
          "f_prct": 0.17674590466806303,
          "female_percent": 17.7,
          "frequencies": 1435,
          "sex": "F",
          "year": 1960
         },
         {
          "all": 7702,
          "f_prct": 0.175019475460919,
          "female_percent": 17.5,
          "frequencies": 1348,
          "sex": "F",
          "year": 1964
         },
         {
          "all": 8588,
          "f_prct": 0.206916627852818,
          "female_percent": 20.7,
          "frequencies": 1777,
          "sex": "F",
          "year": 1968
         },
         {
          "all": 10304,
          "f_prct": 0.21282996894409897,
          "female_percent": 21.3,
          "frequencies": 2193,
          "sex": "F",
          "year": 1972
         },
         {
          "all": 8641,
          "f_prct": 0.25135979631987,
          "female_percent": 25.1,
          "frequencies": 2172,
          "sex": "F",
          "year": 1976
         },
         {
          "all": 7191,
          "f_prct": 0.24419413155333103,
          "female_percent": 24.4,
          "frequencies": 1756,
          "sex": "F",
          "year": 1980
         },
         {
          "all": 9454,
          "f_prct": 0.258832240321557,
          "female_percent": 25.9,
          "frequencies": 2447,
          "sex": "F",
          "year": 1984
         },
         {
          "all": 12037,
          "f_prct": 0.294342444130597,
          "female_percent": 29.4,
          "frequencies": 3543,
          "sex": "F",
          "year": 1988
         },
         {
          "all": 12977,
          "f_prct": 0.3177930184172,
          "female_percent": 31.8,
          "frequencies": 4124,
          "sex": "F",
          "year": 1992
         },
         {
          "all": 13780,
          "f_prct": 0.36342525399129205,
          "female_percent": 36.3,
          "frequencies": 5008,
          "sex": "F",
          "year": 1996
         },
         {
          "all": 13821,
          "f_prct": 0.392952753056942,
          "female_percent": 39.3,
          "frequencies": 5431,
          "sex": "F",
          "year": 2000
         },
         {
          "all": 13443,
          "f_prct": 0.412556720970022,
          "female_percent": 41.3,
          "frequencies": 5546,
          "sex": "F",
          "year": 2004
         },
         {
          "all": 13602,
          "f_prct": 0.42758417879723604,
          "female_percent": 42.8,
          "frequencies": 5816,
          "sex": "F",
          "year": 2008
         },
         {
          "all": 12920,
          "f_prct": 0.450077399380805,
          "female_percent": 45,
          "frequencies": 5815,
          "sex": "F",
          "year": 2012
         },
         {
          "all": 13688,
          "f_prct": 0.454631794272355,
          "female_percent": 45.5,
          "frequencies": 6223,
          "sex": "F",
          "year": 2016
         },
         {
          "all": 380,
          "f_prct": 0,
          "female_percent": 0,
          "frequencies": 380,
          "sex": "M",
          "year": 1896
         },
         {
          "all": 1936,
          "f_prct": 0.0170454545454545,
          "female_percent": 1.7,
          "frequencies": 1903,
          "sex": "M",
          "year": 1900
         },
         {
          "all": 1301,
          "f_prct": 0.0122982321291314,
          "female_percent": 1.2,
          "frequencies": 1285,
          "sex": "M",
          "year": 1904
         },
         {
          "all": 1733,
          "f_prct": 0.00634737449509521,
          "female_percent": 0.6,
          "frequencies": 1722,
          "sex": "M",
          "year": 1906
         },
         {
          "all": 3101,
          "f_prct": 0.0151564011609158,
          "female_percent": 1.5,
          "frequencies": 3054,
          "sex": "M",
          "year": 1908
         },
         {
          "all": 4040,
          "f_prct": 0.0215346534653465,
          "female_percent": 2.2,
          "frequencies": 3953,
          "sex": "M",
          "year": 1912
         },
         {
          "all": 4292,
          "f_prct": 0.0312208760484623,
          "female_percent": 3.1,
          "frequencies": 4158,
          "sex": "M",
          "year": 1920
         },
         {
          "all": 5233,
          "f_prct": 0.0466271737053316,
          "female_percent": 4.7,
          "frequencies": 4989,
          "sex": "M",
          "year": 1924
         },
         {
          "all": 4992,
          "f_prct": 0.0809294871794872,
          "female_percent": 8.1,
          "frequencies": 4588,
          "sex": "M",
          "year": 1928
         },
         {
          "all": 2969,
          "f_prct": 0.116874368474234,
          "female_percent": 11.7,
          "frequencies": 2622,
          "sex": "M",
          "year": 1932
         },
         {
          "all": 6506,
          "f_prct": 0.0719335997540732,
          "female_percent": 7.2,
          "frequencies": 6038,
          "sex": "M",
          "year": 1936
         },
         {
          "all": 6405,
          "f_prct": 0.09804839968774401,
          "female_percent": 9.8,
          "frequencies": 5777,
          "sex": "M",
          "year": 1948
         },
         {
          "all": 8270,
          "f_prct": 0.18101571946795603,
          "female_percent": 18.1,
          "frequencies": 6773,
          "sex": "M",
          "year": 1952
         },
         {
          "all": 5127,
          "f_prct": 0.174175931343866,
          "female_percent": 17.4,
          "frequencies": 4234,
          "sex": "M",
          "year": 1956
         },
         {
          "all": 8119,
          "f_prct": 0.17674590466806303,
          "female_percent": 17.7,
          "frequencies": 6684,
          "sex": "M",
          "year": 1960
         },
         {
          "all": 7702,
          "f_prct": 0.175019475460919,
          "female_percent": 17.5,
          "frequencies": 6354,
          "sex": "M",
          "year": 1964
         },
         {
          "all": 8588,
          "f_prct": 0.206916627852818,
          "female_percent": 20.7,
          "frequencies": 6811,
          "sex": "M",
          "year": 1968
         },
         {
          "all": 10304,
          "f_prct": 0.21282996894409897,
          "female_percent": 21.3,
          "frequencies": 8111,
          "sex": "M",
          "year": 1972
         },
         {
          "all": 8641,
          "f_prct": 0.25135979631987,
          "female_percent": 25.1,
          "frequencies": 6469,
          "sex": "M",
          "year": 1976
         },
         {
          "all": 7191,
          "f_prct": 0.24419413155333103,
          "female_percent": 24.4,
          "frequencies": 5435,
          "sex": "M",
          "year": 1980
         },
         {
          "all": 9454,
          "f_prct": 0.258832240321557,
          "female_percent": 25.9,
          "frequencies": 7007,
          "sex": "M",
          "year": 1984
         },
         {
          "all": 12037,
          "f_prct": 0.294342444130597,
          "female_percent": 29.4,
          "frequencies": 8494,
          "sex": "M",
          "year": 1988
         },
         {
          "all": 12977,
          "f_prct": 0.3177930184172,
          "female_percent": 31.8,
          "frequencies": 8853,
          "sex": "M",
          "year": 1992
         },
         {
          "all": 13780,
          "f_prct": 0.36342525399129205,
          "female_percent": 36.3,
          "frequencies": 8772,
          "sex": "M",
          "year": 1996
         },
         {
          "all": 13821,
          "f_prct": 0.392952753056942,
          "female_percent": 39.3,
          "frequencies": 8390,
          "sex": "M",
          "year": 2000
         },
         {
          "all": 13443,
          "f_prct": 0.412556720970022,
          "female_percent": 41.3,
          "frequencies": 7897,
          "sex": "M",
          "year": 2004
         },
         {
          "all": 13602,
          "f_prct": 0.42758417879723604,
          "female_percent": 42.8,
          "frequencies": 7786,
          "sex": "M",
          "year": 2008
         },
         {
          "all": 12920,
          "f_prct": 0.450077399380805,
          "female_percent": 45,
          "frequencies": 7105,
          "sex": "M",
          "year": 2012
         },
         {
          "all": 13688,
          "f_prct": 0.454631794272355,
          "female_percent": 45.5,
          "frequencies": 7465,
          "sex": "M",
          "year": 2016
         }
        ]
       },
       "encoding": {
        "color": {
         "field": "sex",
         "type": "nominal"
        },
        "tooltip": [
         {
          "field": "year",
          "type": "quantitative"
         },
         {
          "field": "female_percent",
          "type": "quantitative"
         }
        ],
        "x": {
         "aggregate": "sum",
         "axis": {
          "format": "%",
          "title": "Percentage"
         },
         "field": "frequencies",
         "stack": "normalize",
         "type": "quantitative"
        },
        "y": {
         "field": "year",
         "type": "quantitative"
        }
       },
       "mark": "bar",
       "selection": {
        "selector002": {
         "bind": "scales",
         "encodings": [
          "x",
          "y"
         ],
         "type": "interval"
        }
       }
      },
      "image/png": "[encoded data removed]",
      "text/plain": [
       "<VegaLite 3 object>\n",
       "\n",
       "If you see this message, it means the renderer has not been properly enabled\n",
       "for the frontend that you are using. For more information, see\n",
       "https://altair-viz.github.io/user_guide/troubleshooting.html\n"
      ]
     },
     "execution_count": 26,
     "metadata": {},
     "output_type": "execute_result"
    }
   ],
   "source": [
    "alt.Chart(female_dcast_tidy_df).mark_bar().encode(\n",
    "    x=alt.X('sum(frequencies)', stack=\"normalize\", axis=alt.Axis(format='%', title='Percentage')),\n",
    "    y='year',\n",
    "    color='sex',\n",
    "    tooltip=['year','female_percent:Q']\n",
    ").interactive()"
   ]
  },
  {
   "cell_type": "code",
   "execution_count": 27,
   "metadata": {},
   "outputs": [
    {
     "data": {
      "application/vnd.vegalite.v3+json": {
       "$schema": "https://vega.github.io/schema/vega-lite/v3.4.0.json",
       "config": {
        "mark": {
         "tooltip": null
        },
        "view": {
         "height": 300,
         "width": 400
        }
       },
       "data": {
        "name": "data-cf9ace0ae9bfdb6b38a0ded76d58288d"
       },
       "datasets": {
        "data-cf9ace0ae9bfdb6b38a0ded76d58288d": [
         {
          "all": 380,
          "f_prct": 0,
          "female_percent": 0,
          "frequencies": 0,
          "sex": "F",
          "year": 1896
         },
         {
          "all": 1936,
          "f_prct": 0.0170454545454545,
          "female_percent": 1.7,
          "frequencies": 33,
          "sex": "F",
          "year": 1900
         },
         {
          "all": 1301,
          "f_prct": 0.0122982321291314,
          "female_percent": 1.2,
          "frequencies": 16,
          "sex": "F",
          "year": 1904
         },
         {
          "all": 1733,
          "f_prct": 0.00634737449509521,
          "female_percent": 0.6,
          "frequencies": 11,
          "sex": "F",
          "year": 1906
         },
         {
          "all": 3101,
          "f_prct": 0.0151564011609158,
          "female_percent": 1.5,
          "frequencies": 47,
          "sex": "F",
          "year": 1908
         },
         {
          "all": 4040,
          "f_prct": 0.0215346534653465,
          "female_percent": 2.2,
          "frequencies": 87,
          "sex": "F",
          "year": 1912
         },
         {
          "all": 4292,
          "f_prct": 0.0312208760484623,
          "female_percent": 3.1,
          "frequencies": 134,
          "sex": "F",
          "year": 1920
         },
         {
          "all": 5233,
          "f_prct": 0.0466271737053316,
          "female_percent": 4.7,
          "frequencies": 244,
          "sex": "F",
          "year": 1924
         },
         {
          "all": 4992,
          "f_prct": 0.0809294871794872,
          "female_percent": 8.1,
          "frequencies": 404,
          "sex": "F",
          "year": 1928
         },
         {
          "all": 2969,
          "f_prct": 0.116874368474234,
          "female_percent": 11.7,
          "frequencies": 347,
          "sex": "F",
          "year": 1932
         },
         {
          "all": 6506,
          "f_prct": 0.0719335997540732,
          "female_percent": 7.2,
          "frequencies": 468,
          "sex": "F",
          "year": 1936
         },
         {
          "all": 6405,
          "f_prct": 0.09804839968774401,
          "female_percent": 9.8,
          "frequencies": 628,
          "sex": "F",
          "year": 1948
         },
         {
          "all": 8270,
          "f_prct": 0.18101571946795603,
          "female_percent": 18.1,
          "frequencies": 1497,
          "sex": "F",
          "year": 1952
         },
         {
          "all": 5127,
          "f_prct": 0.174175931343866,
          "female_percent": 17.4,
          "frequencies": 893,
          "sex": "F",
          "year": 1956
         },
         {
          "all": 8119,
          "f_prct": 0.17674590466806303,
          "female_percent": 17.7,
          "frequencies": 1435,
          "sex": "F",
          "year": 1960
         },
         {
          "all": 7702,
          "f_prct": 0.175019475460919,
          "female_percent": 17.5,
          "frequencies": 1348,
          "sex": "F",
          "year": 1964
         },
         {
          "all": 8588,
          "f_prct": 0.206916627852818,
          "female_percent": 20.7,
          "frequencies": 1777,
          "sex": "F",
          "year": 1968
         },
         {
          "all": 10304,
          "f_prct": 0.21282996894409897,
          "female_percent": 21.3,
          "frequencies": 2193,
          "sex": "F",
          "year": 1972
         },
         {
          "all": 8641,
          "f_prct": 0.25135979631987,
          "female_percent": 25.1,
          "frequencies": 2172,
          "sex": "F",
          "year": 1976
         },
         {
          "all": 7191,
          "f_prct": 0.24419413155333103,
          "female_percent": 24.4,
          "frequencies": 1756,
          "sex": "F",
          "year": 1980
         },
         {
          "all": 9454,
          "f_prct": 0.258832240321557,
          "female_percent": 25.9,
          "frequencies": 2447,
          "sex": "F",
          "year": 1984
         },
         {
          "all": 12037,
          "f_prct": 0.294342444130597,
          "female_percent": 29.4,
          "frequencies": 3543,
          "sex": "F",
          "year": 1988
         },
         {
          "all": 12977,
          "f_prct": 0.3177930184172,
          "female_percent": 31.8,
          "frequencies": 4124,
          "sex": "F",
          "year": 1992
         },
         {
          "all": 13780,
          "f_prct": 0.36342525399129205,
          "female_percent": 36.3,
          "frequencies": 5008,
          "sex": "F",
          "year": 1996
         },
         {
          "all": 13821,
          "f_prct": 0.392952753056942,
          "female_percent": 39.3,
          "frequencies": 5431,
          "sex": "F",
          "year": 2000
         },
         {
          "all": 13443,
          "f_prct": 0.412556720970022,
          "female_percent": 41.3,
          "frequencies": 5546,
          "sex": "F",
          "year": 2004
         },
         {
          "all": 13602,
          "f_prct": 0.42758417879723604,
          "female_percent": 42.8,
          "frequencies": 5816,
          "sex": "F",
          "year": 2008
         },
         {
          "all": 12920,
          "f_prct": 0.450077399380805,
          "female_percent": 45,
          "frequencies": 5815,
          "sex": "F",
          "year": 2012
         },
         {
          "all": 13688,
          "f_prct": 0.454631794272355,
          "female_percent": 45.5,
          "frequencies": 6223,
          "sex": "F",
          "year": 2016
         },
         {
          "all": 380,
          "f_prct": 0,
          "female_percent": 0,
          "frequencies": 380,
          "sex": "M",
          "year": 1896
         },
         {
          "all": 1936,
          "f_prct": 0.0170454545454545,
          "female_percent": 1.7,
          "frequencies": 1903,
          "sex": "M",
          "year": 1900
         },
         {
          "all": 1301,
          "f_prct": 0.0122982321291314,
          "female_percent": 1.2,
          "frequencies": 1285,
          "sex": "M",
          "year": 1904
         },
         {
          "all": 1733,
          "f_prct": 0.00634737449509521,
          "female_percent": 0.6,
          "frequencies": 1722,
          "sex": "M",
          "year": 1906
         },
         {
          "all": 3101,
          "f_prct": 0.0151564011609158,
          "female_percent": 1.5,
          "frequencies": 3054,
          "sex": "M",
          "year": 1908
         },
         {
          "all": 4040,
          "f_prct": 0.0215346534653465,
          "female_percent": 2.2,
          "frequencies": 3953,
          "sex": "M",
          "year": 1912
         },
         {
          "all": 4292,
          "f_prct": 0.0312208760484623,
          "female_percent": 3.1,
          "frequencies": 4158,
          "sex": "M",
          "year": 1920
         },
         {
          "all": 5233,
          "f_prct": 0.0466271737053316,
          "female_percent": 4.7,
          "frequencies": 4989,
          "sex": "M",
          "year": 1924
         },
         {
          "all": 4992,
          "f_prct": 0.0809294871794872,
          "female_percent": 8.1,
          "frequencies": 4588,
          "sex": "M",
          "year": 1928
         },
         {
          "all": 2969,
          "f_prct": 0.116874368474234,
          "female_percent": 11.7,
          "frequencies": 2622,
          "sex": "M",
          "year": 1932
         },
         {
          "all": 6506,
          "f_prct": 0.0719335997540732,
          "female_percent": 7.2,
          "frequencies": 6038,
          "sex": "M",
          "year": 1936
         },
         {
          "all": 6405,
          "f_prct": 0.09804839968774401,
          "female_percent": 9.8,
          "frequencies": 5777,
          "sex": "M",
          "year": 1948
         },
         {
          "all": 8270,
          "f_prct": 0.18101571946795603,
          "female_percent": 18.1,
          "frequencies": 6773,
          "sex": "M",
          "year": 1952
         },
         {
          "all": 5127,
          "f_prct": 0.174175931343866,
          "female_percent": 17.4,
          "frequencies": 4234,
          "sex": "M",
          "year": 1956
         },
         {
          "all": 8119,
          "f_prct": 0.17674590466806303,
          "female_percent": 17.7,
          "frequencies": 6684,
          "sex": "M",
          "year": 1960
         },
         {
          "all": 7702,
          "f_prct": 0.175019475460919,
          "female_percent": 17.5,
          "frequencies": 6354,
          "sex": "M",
          "year": 1964
         },
         {
          "all": 8588,
          "f_prct": 0.206916627852818,
          "female_percent": 20.7,
          "frequencies": 6811,
          "sex": "M",
          "year": 1968
         },
         {
          "all": 10304,
          "f_prct": 0.21282996894409897,
          "female_percent": 21.3,
          "frequencies": 8111,
          "sex": "M",
          "year": 1972
         },
         {
          "all": 8641,
          "f_prct": 0.25135979631987,
          "female_percent": 25.1,
          "frequencies": 6469,
          "sex": "M",
          "year": 1976
         },
         {
          "all": 7191,
          "f_prct": 0.24419413155333103,
          "female_percent": 24.4,
          "frequencies": 5435,
          "sex": "M",
          "year": 1980
         },
         {
          "all": 9454,
          "f_prct": 0.258832240321557,
          "female_percent": 25.9,
          "frequencies": 7007,
          "sex": "M",
          "year": 1984
         },
         {
          "all": 12037,
          "f_prct": 0.294342444130597,
          "female_percent": 29.4,
          "frequencies": 8494,
          "sex": "M",
          "year": 1988
         },
         {
          "all": 12977,
          "f_prct": 0.3177930184172,
          "female_percent": 31.8,
          "frequencies": 8853,
          "sex": "M",
          "year": 1992
         },
         {
          "all": 13780,
          "f_prct": 0.36342525399129205,
          "female_percent": 36.3,
          "frequencies": 8772,
          "sex": "M",
          "year": 1996
         },
         {
          "all": 13821,
          "f_prct": 0.392952753056942,
          "female_percent": 39.3,
          "frequencies": 8390,
          "sex": "M",
          "year": 2000
         },
         {
          "all": 13443,
          "f_prct": 0.412556720970022,
          "female_percent": 41.3,
          "frequencies": 7897,
          "sex": "M",
          "year": 2004
         },
         {
          "all": 13602,
          "f_prct": 0.42758417879723604,
          "female_percent": 42.8,
          "frequencies": 7786,
          "sex": "M",
          "year": 2008
         },
         {
          "all": 12920,
          "f_prct": 0.450077399380805,
          "female_percent": 45,
          "frequencies": 7105,
          "sex": "M",
          "year": 2012
         },
         {
          "all": 13688,
          "f_prct": 0.454631794272355,
          "female_percent": 45.5,
          "frequencies": 7465,
          "sex": "M",
          "year": 2016
         }
        ]
       },
       "encoding": {
        "color": {
         "field": "sex",
         "type": "nominal"
        },
        "tooltip": [
         {
          "field": "year",
          "type": "quantitative"
         },
         {
          "field": "female_percent",
          "type": "quantitative"
         }
        ],
        "x": {
         "field": "year",
         "type": "nominal"
        },
        "y": {
         "aggregate": "sum",
         "field": "frequencies",
         "type": "quantitative"
        }
       },
       "mark": "area"
      },
      "image/png": "[encoded data removed]",
      "text/plain": [
       "<VegaLite 3 object>\n",
       "\n",
       "If you see this message, it means the renderer has not been properly enabled\n",
       "for the frontend that you are using. For more information, see\n",
       "https://altair-viz.github.io/user_guide/troubleshooting.html\n"
      ]
     },
     "execution_count": 27,
     "metadata": {},
     "output_type": "execute_result"
    }
   ],
   "source": [
    "alt.Chart(female_dcast_tidy_df).mark_area().encode(\n",
    "    x=\"year:N\",\n",
    "    y=\"sum(frequencies):Q\",\n",
    "    color=\"sex:N\",\n",
    "    tooltip=['year','female_percent:Q']\n",
    ")"
   ]
  },
  {
   "cell_type": "code",
   "execution_count": 28,
   "metadata": {},
   "outputs": [],
   "source": [
    "continent=pd.read_csv('/Users/Tal/Desktop/continent.csv')"
   ]
  },
  {
   "cell_type": "code",
   "execution_count": 29,
   "metadata": {},
   "outputs": [
    {
     "data": {
      "text/html": [
       "<div>\n",
       "<style scoped>\n",
       "    .dataframe tbody tr th:only-of-type {\n",
       "        vertical-align: middle;\n",
       "    }\n",
       "\n",
       "    .dataframe tbody tr th {\n",
       "        vertical-align: top;\n",
       "    }\n",
       "\n",
       "    .dataframe thead th {\n",
       "        text-align: right;\n",
       "    }\n",
       "</style>\n",
       "<table border=\"1\" class=\"dataframe\">\n",
       "  <thead>\n",
       "    <tr style=\"text-align: right;\">\n",
       "      <th></th>\n",
       "      <th>Continent_Name</th>\n",
       "      <th>Continent_Code</th>\n",
       "      <th>Country_Name</th>\n",
       "      <th>Two_Letter_Country_Code</th>\n",
       "      <th>Three_Letter_Country_Code</th>\n",
       "      <th>Country_Number</th>\n",
       "    </tr>\n",
       "  </thead>\n",
       "  <tbody>\n",
       "    <tr>\n",
       "      <td>0</td>\n",
       "      <td>Asia</td>\n",
       "      <td>AS</td>\n",
       "      <td>Afghanistan, Islamic Republic of</td>\n",
       "      <td>AF</td>\n",
       "      <td>AFG</td>\n",
       "      <td>4.0</td>\n",
       "    </tr>\n",
       "    <tr>\n",
       "      <td>1</td>\n",
       "      <td>Europe</td>\n",
       "      <td>EU</td>\n",
       "      <td>Albania, Republic of</td>\n",
       "      <td>AL</td>\n",
       "      <td>ALB</td>\n",
       "      <td>8.0</td>\n",
       "    </tr>\n",
       "  </tbody>\n",
       "</table>\n",
       "</div>"
      ],
      "text/plain": [
       "  Continent_Name Continent_Code                      Country_Name  \\\n",
       "0           Asia             AS  Afghanistan, Islamic Republic of   \n",
       "1         Europe             EU              Albania, Republic of   \n",
       "\n",
       "  Two_Letter_Country_Code Three_Letter_Country_Code  Country_Number  \n",
       "0                      AF                       AFG             4.0  \n",
       "1                      AL                       ALB             8.0  "
      ]
     },
     "execution_count": 29,
     "metadata": {},
     "output_type": "execute_result"
    }
   ],
   "source": [
    "continent.head(2)"
   ]
  },
  {
   "cell_type": "code",
   "execution_count": 30,
   "metadata": {},
   "outputs": [
    {
     "data": {
      "text/html": [
       "<div>\n",
       "<style scoped>\n",
       "    .dataframe tbody tr th:only-of-type {\n",
       "        vertical-align: middle;\n",
       "    }\n",
       "\n",
       "    .dataframe tbody tr th {\n",
       "        vertical-align: top;\n",
       "    }\n",
       "\n",
       "    .dataframe thead th {\n",
       "        text-align: right;\n",
       "    }\n",
       "</style>\n",
       "<table border=\"1\" class=\"dataframe\">\n",
       "  <thead>\n",
       "    <tr style=\"text-align: right;\">\n",
       "      <th></th>\n",
       "      <th>Continent_Name</th>\n",
       "      <th>NOC</th>\n",
       "    </tr>\n",
       "  </thead>\n",
       "  <tbody>\n",
       "    <tr>\n",
       "      <td>0</td>\n",
       "      <td>Asia</td>\n",
       "      <td>AFG</td>\n",
       "    </tr>\n",
       "    <tr>\n",
       "      <td>1</td>\n",
       "      <td>Europe</td>\n",
       "      <td>ALB</td>\n",
       "    </tr>\n",
       "  </tbody>\n",
       "</table>\n",
       "</div>"
      ],
      "text/plain": [
       "  Continent_Name  NOC\n",
       "0           Asia  AFG\n",
       "1         Europe  ALB"
      ]
     },
     "execution_count": 30,
     "metadata": {},
     "output_type": "execute_result"
    }
   ],
   "source": [
    "continent_simple = continent[['Continent_Name','Three_Letter_Country_Code']]\n",
    "continent_simple.columns=['Continent_Name','NOC']\n",
    "continent_simple.head(2)"
   ]
  },
  {
   "cell_type": "code",
   "execution_count": 31,
   "metadata": {},
   "outputs": [
    {
     "data": {
      "text/html": [
       "<div>\n",
       "<style scoped>\n",
       "    .dataframe tbody tr th:only-of-type {\n",
       "        vertical-align: middle;\n",
       "    }\n",
       "\n",
       "    .dataframe tbody tr th {\n",
       "        vertical-align: top;\n",
       "    }\n",
       "\n",
       "    .dataframe thead th {\n",
       "        text-align: right;\n",
       "    }\n",
       "</style>\n",
       "<table border=\"1\" class=\"dataframe\">\n",
       "  <thead>\n",
       "    <tr style=\"text-align: right;\">\n",
       "      <th></th>\n",
       "      <th>ID</th>\n",
       "      <th>Name</th>\n",
       "      <th>Sex</th>\n",
       "      <th>Age</th>\n",
       "      <th>Height</th>\n",
       "      <th>Weight</th>\n",
       "      <th>Team</th>\n",
       "      <th>NOC</th>\n",
       "      <th>Games</th>\n",
       "      <th>Year</th>\n",
       "      <th>Season</th>\n",
       "      <th>City</th>\n",
       "      <th>Sport</th>\n",
       "      <th>Event</th>\n",
       "      <th>Medal</th>\n",
       "      <th>Continent_Name</th>\n",
       "    </tr>\n",
       "  </thead>\n",
       "  <tbody>\n",
       "    <tr>\n",
       "      <td>5989</td>\n",
       "      <td>70232</td>\n",
       "      <td>Aarne Ulf Kristian Lindroos</td>\n",
       "      <td>M</td>\n",
       "      <td>27.0</td>\n",
       "      <td>192.0</td>\n",
       "      <td>88.5</td>\n",
       "      <td>Finland</td>\n",
       "      <td>FIN</td>\n",
       "      <td>1988 Summer</td>\n",
       "      <td>1988</td>\n",
       "      <td>Summer</td>\n",
       "      <td>Seoul</td>\n",
       "      <td>Rowing</td>\n",
       "      <td>Rowing Men's Coxless Pairs</td>\n",
       "      <td>NaN</td>\n",
       "      <td>Europe</td>\n",
       "    </tr>\n",
       "    <tr>\n",
       "      <td>28929</td>\n",
       "      <td>75818</td>\n",
       "      <td>Nuria Martnez Prat</td>\n",
       "      <td>F</td>\n",
       "      <td>24.0</td>\n",
       "      <td>177.0</td>\n",
       "      <td>72.0</td>\n",
       "      <td>Spain</td>\n",
       "      <td>ESP</td>\n",
       "      <td>2008 Summer</td>\n",
       "      <td>2008</td>\n",
       "      <td>Summer</td>\n",
       "      <td>Beijing</td>\n",
       "      <td>Basketball</td>\n",
       "      <td>Basketball Women's Basketball</td>\n",
       "      <td>NaN</td>\n",
       "      <td>Europe</td>\n",
       "    </tr>\n",
       "    <tr>\n",
       "      <td>114577</td>\n",
       "      <td>26934</td>\n",
       "      <td>Fernanda Demtrio Decnop Coelho</td>\n",
       "      <td>F</td>\n",
       "      <td>29.0</td>\n",
       "      <td>172.0</td>\n",
       "      <td>67.0</td>\n",
       "      <td>Brazil</td>\n",
       "      <td>BRA</td>\n",
       "      <td>2016 Summer</td>\n",
       "      <td>2016</td>\n",
       "      <td>Summer</td>\n",
       "      <td>Rio de Janeiro</td>\n",
       "      <td>Sailing</td>\n",
       "      <td>Sailing Women's One Person Dinghy</td>\n",
       "      <td>NaN</td>\n",
       "      <td>South America</td>\n",
       "    </tr>\n",
       "    <tr>\n",
       "      <td>112228</td>\n",
       "      <td>118051</td>\n",
       "      <td>Kenji Takeya</td>\n",
       "      <td>M</td>\n",
       "      <td>34.0</td>\n",
       "      <td>175.0</td>\n",
       "      <td>65.0</td>\n",
       "      <td>Japan</td>\n",
       "      <td>JPN</td>\n",
       "      <td>2004 Summer</td>\n",
       "      <td>2004</td>\n",
       "      <td>Summer</td>\n",
       "      <td>Athina</td>\n",
       "      <td>Cycling</td>\n",
       "      <td>Cycling Men's Mountainbike, Cross-Country</td>\n",
       "      <td>NaN</td>\n",
       "      <td>Asia</td>\n",
       "    </tr>\n",
       "    <tr>\n",
       "      <td>150230</td>\n",
       "      <td>127638</td>\n",
       "      <td>Letitia Alma Vriesde</td>\n",
       "      <td>F</td>\n",
       "      <td>35.0</td>\n",
       "      <td>159.0</td>\n",
       "      <td>55.0</td>\n",
       "      <td>Suriname</td>\n",
       "      <td>SUR</td>\n",
       "      <td>2000 Summer</td>\n",
       "      <td>2000</td>\n",
       "      <td>Summer</td>\n",
       "      <td>Sydney</td>\n",
       "      <td>Athletics</td>\n",
       "      <td>Athletics Women's 800 metres</td>\n",
       "      <td>NaN</td>\n",
       "      <td>South America</td>\n",
       "    </tr>\n",
       "  </tbody>\n",
       "</table>\n",
       "</div>"
      ],
      "text/plain": [
       "            ID                            Name Sex   Age  Height  Weight  \\\n",
       "5989     70232     Aarne Ulf Kristian Lindroos   M  27.0   192.0    88.5   \n",
       "28929    75818              Nuria Martnez Prat   F  24.0   177.0    72.0   \n",
       "114577   26934  Fernanda Demtrio Decnop Coelho   F  29.0   172.0    67.0   \n",
       "112228  118051                    Kenji Takeya   M  34.0   175.0    65.0   \n",
       "150230  127638            Letitia Alma Vriesde   F  35.0   159.0    55.0   \n",
       "\n",
       "            Team  NOC        Games  Year  Season            City       Sport  \\\n",
       "5989     Finland  FIN  1988 Summer  1988  Summer           Seoul      Rowing   \n",
       "28929      Spain  ESP  2008 Summer  2008  Summer         Beijing  Basketball   \n",
       "114577    Brazil  BRA  2016 Summer  2016  Summer  Rio de Janeiro     Sailing   \n",
       "112228     Japan  JPN  2004 Summer  2004  Summer          Athina     Cycling   \n",
       "150230  Suriname  SUR  2000 Summer  2000  Summer          Sydney   Athletics   \n",
       "\n",
       "                                            Event Medal Continent_Name  \n",
       "5989                   Rowing Men's Coxless Pairs   NaN         Europe  \n",
       "28929               Basketball Women's Basketball   NaN         Europe  \n",
       "114577          Sailing Women's One Person Dinghy   NaN  South America  \n",
       "112228  Cycling Men's Mountainbike, Cross-Country   NaN           Asia  \n",
       "150230               Athletics Women's 800 metres   NaN  South America  "
      ]
     },
     "execution_count": 31,
     "metadata": {},
     "output_type": "execute_result"
    }
   ],
   "source": [
    "summer_con=summer.merge(continent_simple, on='NOC', how='inner')\n",
    "summer_con.sample(5)"
   ]
  },
  {
   "cell_type": "code",
   "execution_count": 32,
   "metadata": {},
   "outputs": [
    {
     "data": {
      "text/html": [
       "<div>\n",
       "<style scoped>\n",
       "    .dataframe tbody tr th:only-of-type {\n",
       "        vertical-align: middle;\n",
       "    }\n",
       "\n",
       "    .dataframe tbody tr th {\n",
       "        vertical-align: top;\n",
       "    }\n",
       "\n",
       "    .dataframe thead th {\n",
       "        text-align: right;\n",
       "    }\n",
       "</style>\n",
       "<table border=\"1\" class=\"dataframe\">\n",
       "  <thead>\n",
       "    <tr style=\"text-align: right;\">\n",
       "      <th></th>\n",
       "      <th>Sex</th>\n",
       "      <th>Team</th>\n",
       "      <th>Year</th>\n",
       "      <th>Continent_Name</th>\n",
       "    </tr>\n",
       "  </thead>\n",
       "  <tbody>\n",
       "    <tr>\n",
       "      <td>0</td>\n",
       "      <td>M</td>\n",
       "      <td>China</td>\n",
       "      <td>1992</td>\n",
       "      <td>Asia</td>\n",
       "    </tr>\n",
       "    <tr>\n",
       "      <td>1</td>\n",
       "      <td>M</td>\n",
       "      <td>China</td>\n",
       "      <td>2012</td>\n",
       "      <td>Asia</td>\n",
       "    </tr>\n",
       "    <tr>\n",
       "      <td>2</td>\n",
       "      <td>M</td>\n",
       "      <td>China</td>\n",
       "      <td>2000</td>\n",
       "      <td>Asia</td>\n",
       "    </tr>\n",
       "    <tr>\n",
       "      <td>3</td>\n",
       "      <td>M</td>\n",
       "      <td>China</td>\n",
       "      <td>2004</td>\n",
       "      <td>Asia</td>\n",
       "    </tr>\n",
       "    <tr>\n",
       "      <td>4</td>\n",
       "      <td>F</td>\n",
       "      <td>China</td>\n",
       "      <td>2016</td>\n",
       "      <td>Asia</td>\n",
       "    </tr>\n",
       "  </tbody>\n",
       "</table>\n",
       "</div>"
      ],
      "text/plain": [
       "  Sex   Team  Year Continent_Name\n",
       "0   M  China  1992           Asia\n",
       "1   M  China  2012           Asia\n",
       "2   M  China  2000           Asia\n",
       "3   M  China  2004           Asia\n",
       "4   F  China  2016           Asia"
      ]
     },
     "execution_count": 32,
     "metadata": {},
     "output_type": "execute_result"
    }
   ],
   "source": [
    "summer_con_simple = summer_con[['Sex', 'Team','Year','Continent_Name']]\n",
    "summer_con_simple.head()"
   ]
  },
  {
   "cell_type": "code",
   "execution_count": 33,
   "metadata": {},
   "outputs": [],
   "source": [
    "summer_con_classified=pd.crosstab(summer_con_simple.Year, [summer_con_simple.Sex,summer_con_simple.Continent_Name], margins=True)"
   ]
  },
  {
   "cell_type": "code",
   "execution_count": 34,
   "metadata": {},
   "outputs": [
    {
     "data": {
      "text/html": [
       "<div>\n",
       "<style scoped>\n",
       "    .dataframe tbody tr th:only-of-type {\n",
       "        vertical-align: middle;\n",
       "    }\n",
       "\n",
       "    .dataframe tbody tr th {\n",
       "        vertical-align: top;\n",
       "    }\n",
       "\n",
       "    .dataframe thead tr th {\n",
       "        text-align: left;\n",
       "    }\n",
       "\n",
       "    .dataframe thead tr:last-of-type th {\n",
       "        text-align: right;\n",
       "    }\n",
       "</style>\n",
       "<table border=\"1\" class=\"dataframe\">\n",
       "  <thead>\n",
       "    <tr>\n",
       "      <th>Sex</th>\n",
       "      <th colspan=\"6\" halign=\"left\">F</th>\n",
       "      <th colspan=\"6\" halign=\"left\">M</th>\n",
       "      <th>All</th>\n",
       "    </tr>\n",
       "    <tr>\n",
       "      <th>Continent_Name</th>\n",
       "      <th>Africa</th>\n",
       "      <th>Asia</th>\n",
       "      <th>Europe</th>\n",
       "      <th>North America</th>\n",
       "      <th>Oceania</th>\n",
       "      <th>South America</th>\n",
       "      <th>Africa</th>\n",
       "      <th>Asia</th>\n",
       "      <th>Europe</th>\n",
       "      <th>North America</th>\n",
       "      <th>Oceania</th>\n",
       "      <th>South America</th>\n",
       "      <th></th>\n",
       "    </tr>\n",
       "    <tr>\n",
       "      <th>Year</th>\n",
       "      <th></th>\n",
       "      <th></th>\n",
       "      <th></th>\n",
       "      <th></th>\n",
       "      <th></th>\n",
       "      <th></th>\n",
       "      <th></th>\n",
       "      <th></th>\n",
       "      <th></th>\n",
       "      <th></th>\n",
       "      <th></th>\n",
       "      <th></th>\n",
       "      <th></th>\n",
       "    </tr>\n",
       "  </thead>\n",
       "  <tbody>\n",
       "    <tr>\n",
       "      <td>2004</td>\n",
       "      <td>127</td>\n",
       "      <td>1237</td>\n",
       "      <td>1938</td>\n",
       "      <td>726</td>\n",
       "      <td>366</td>\n",
       "      <td>283</td>\n",
       "      <td>344</td>\n",
       "      <td>1503</td>\n",
       "      <td>2920</td>\n",
       "      <td>840</td>\n",
       "      <td>447</td>\n",
       "      <td>389</td>\n",
       "      <td>11120</td>\n",
       "    </tr>\n",
       "    <tr>\n",
       "      <td>2008</td>\n",
       "      <td>152</td>\n",
       "      <td>1340</td>\n",
       "      <td>2205</td>\n",
       "      <td>729</td>\n",
       "      <td>374</td>\n",
       "      <td>334</td>\n",
       "      <td>300</td>\n",
       "      <td>1661</td>\n",
       "      <td>2893</td>\n",
       "      <td>901</td>\n",
       "      <td>438</td>\n",
       "      <td>419</td>\n",
       "      <td>11746</td>\n",
       "    </tr>\n",
       "    <tr>\n",
       "      <td>2012</td>\n",
       "      <td>198</td>\n",
       "      <td>1260</td>\n",
       "      <td>2292</td>\n",
       "      <td>718</td>\n",
       "      <td>358</td>\n",
       "      <td>315</td>\n",
       "      <td>374</td>\n",
       "      <td>1404</td>\n",
       "      <td>2801</td>\n",
       "      <td>716</td>\n",
       "      <td>408</td>\n",
       "      <td>412</td>\n",
       "      <td>11256</td>\n",
       "    </tr>\n",
       "    <tr>\n",
       "      <td>2016</td>\n",
       "      <td>240</td>\n",
       "      <td>1252</td>\n",
       "      <td>2209</td>\n",
       "      <td>806</td>\n",
       "      <td>396</td>\n",
       "      <td>489</td>\n",
       "      <td>339</td>\n",
       "      <td>1377</td>\n",
       "      <td>2617</td>\n",
       "      <td>780</td>\n",
       "      <td>398</td>\n",
       "      <td>687</td>\n",
       "      <td>11590</td>\n",
       "    </tr>\n",
       "    <tr>\n",
       "      <td>All</td>\n",
       "      <td>1213</td>\n",
       "      <td>9551</td>\n",
       "      <td>21348</td>\n",
       "      <td>8568</td>\n",
       "      <td>3407</td>\n",
       "      <td>2466</td>\n",
       "      <td>5295</td>\n",
       "      <td>18184</td>\n",
       "      <td>62905</td>\n",
       "      <td>20425</td>\n",
       "      <td>6182</td>\n",
       "      <td>7307</td>\n",
       "      <td>166851</td>\n",
       "    </tr>\n",
       "  </tbody>\n",
       "</table>\n",
       "</div>"
      ],
      "text/plain": [
       "Sex                 F                                                       M  \\\n",
       "Continent_Name Africa  Asia Europe North America Oceania South America Africa   \n",
       "Year                                                                            \n",
       "2004              127  1237   1938           726     366           283    344   \n",
       "2008              152  1340   2205           729     374           334    300   \n",
       "2012              198  1260   2292           718     358           315    374   \n",
       "2016              240  1252   2209           806     396           489    339   \n",
       "All              1213  9551  21348          8568    3407          2466   5295   \n",
       "\n",
       "Sex                                                                  All  \n",
       "Continent_Name   Asia Europe North America Oceania South America          \n",
       "Year                                                                      \n",
       "2004             1503   2920           840     447           389   11120  \n",
       "2008             1661   2893           901     438           419   11746  \n",
       "2012             1404   2801           716     408           412   11256  \n",
       "2016             1377   2617           780     398           687   11590  \n",
       "All             18184  62905         20425    6182          7307  166851  "
      ]
     },
     "execution_count": 34,
     "metadata": {},
     "output_type": "execute_result"
    }
   ],
   "source": [
    "summer_con_classified.tail()"
   ]
  },
  {
   "cell_type": "code",
   "execution_count": 35,
   "metadata": {},
   "outputs": [
    {
     "data": {
      "text/html": [
       "<div>\n",
       "<style scoped>\n",
       "    .dataframe tbody tr th:only-of-type {\n",
       "        vertical-align: middle;\n",
       "    }\n",
       "\n",
       "    .dataframe tbody tr th {\n",
       "        vertical-align: top;\n",
       "    }\n",
       "\n",
       "    .dataframe thead tr th {\n",
       "        text-align: left;\n",
       "    }\n",
       "\n",
       "    .dataframe thead tr:last-of-type th {\n",
       "        text-align: right;\n",
       "    }\n",
       "</style>\n",
       "<table border=\"1\" class=\"dataframe\">\n",
       "  <thead>\n",
       "    <tr>\n",
       "      <th>Sex</th>\n",
       "      <th colspan=\"6\" halign=\"left\">F</th>\n",
       "      <th colspan=\"6\" halign=\"left\">M</th>\n",
       "      <th>coltotal</th>\n",
       "    </tr>\n",
       "    <tr>\n",
       "      <th>Continent_Name</th>\n",
       "      <th>Africa</th>\n",
       "      <th>Asia</th>\n",
       "      <th>Europe</th>\n",
       "      <th>North America</th>\n",
       "      <th>Oceania</th>\n",
       "      <th>South America</th>\n",
       "      <th>Africa</th>\n",
       "      <th>Asia</th>\n",
       "      <th>Europe</th>\n",
       "      <th>North America</th>\n",
       "      <th>Oceania</th>\n",
       "      <th>South America</th>\n",
       "      <th></th>\n",
       "    </tr>\n",
       "    <tr>\n",
       "      <th>Year</th>\n",
       "      <th></th>\n",
       "      <th></th>\n",
       "      <th></th>\n",
       "      <th></th>\n",
       "      <th></th>\n",
       "      <th></th>\n",
       "      <th></th>\n",
       "      <th></th>\n",
       "      <th></th>\n",
       "      <th></th>\n",
       "      <th></th>\n",
       "      <th></th>\n",
       "      <th></th>\n",
       "    </tr>\n",
       "  </thead>\n",
       "  <tbody>\n",
       "    <tr>\n",
       "      <td>2004</td>\n",
       "      <td>127</td>\n",
       "      <td>1237</td>\n",
       "      <td>1938</td>\n",
       "      <td>726</td>\n",
       "      <td>366</td>\n",
       "      <td>283</td>\n",
       "      <td>344</td>\n",
       "      <td>1503</td>\n",
       "      <td>2920</td>\n",
       "      <td>840</td>\n",
       "      <td>447</td>\n",
       "      <td>389</td>\n",
       "      <td>11120</td>\n",
       "    </tr>\n",
       "    <tr>\n",
       "      <td>2008</td>\n",
       "      <td>152</td>\n",
       "      <td>1340</td>\n",
       "      <td>2205</td>\n",
       "      <td>729</td>\n",
       "      <td>374</td>\n",
       "      <td>334</td>\n",
       "      <td>300</td>\n",
       "      <td>1661</td>\n",
       "      <td>2893</td>\n",
       "      <td>901</td>\n",
       "      <td>438</td>\n",
       "      <td>419</td>\n",
       "      <td>11746</td>\n",
       "    </tr>\n",
       "    <tr>\n",
       "      <td>2012</td>\n",
       "      <td>198</td>\n",
       "      <td>1260</td>\n",
       "      <td>2292</td>\n",
       "      <td>718</td>\n",
       "      <td>358</td>\n",
       "      <td>315</td>\n",
       "      <td>374</td>\n",
       "      <td>1404</td>\n",
       "      <td>2801</td>\n",
       "      <td>716</td>\n",
       "      <td>408</td>\n",
       "      <td>412</td>\n",
       "      <td>11256</td>\n",
       "    </tr>\n",
       "    <tr>\n",
       "      <td>2016</td>\n",
       "      <td>240</td>\n",
       "      <td>1252</td>\n",
       "      <td>2209</td>\n",
       "      <td>806</td>\n",
       "      <td>396</td>\n",
       "      <td>489</td>\n",
       "      <td>339</td>\n",
       "      <td>1377</td>\n",
       "      <td>2617</td>\n",
       "      <td>780</td>\n",
       "      <td>398</td>\n",
       "      <td>687</td>\n",
       "      <td>11590</td>\n",
       "    </tr>\n",
       "    <tr>\n",
       "      <td>rowtotal</td>\n",
       "      <td>1213</td>\n",
       "      <td>9551</td>\n",
       "      <td>21348</td>\n",
       "      <td>8568</td>\n",
       "      <td>3407</td>\n",
       "      <td>2466</td>\n",
       "      <td>5295</td>\n",
       "      <td>18184</td>\n",
       "      <td>62905</td>\n",
       "      <td>20425</td>\n",
       "      <td>6182</td>\n",
       "      <td>7307</td>\n",
       "      <td>166851</td>\n",
       "    </tr>\n",
       "  </tbody>\n",
       "</table>\n",
       "</div>"
      ],
      "text/plain": [
       "Sex                 F                                                       M  \\\n",
       "Continent_Name Africa  Asia Europe North America Oceania South America Africa   \n",
       "Year                                                                            \n",
       "2004              127  1237   1938           726     366           283    344   \n",
       "2008              152  1340   2205           729     374           334    300   \n",
       "2012              198  1260   2292           718     358           315    374   \n",
       "2016              240  1252   2209           806     396           489    339   \n",
       "rowtotal         1213  9551  21348          8568    3407          2466   5295   \n",
       "\n",
       "Sex                                                              coltotal  \n",
       "Continent_Name   Asia Europe North America Oceania South America           \n",
       "Year                                                                       \n",
       "2004             1503   2920           840     447           389    11120  \n",
       "2008             1661   2893           901     438           419    11746  \n",
       "2012             1404   2801           716     408           412    11256  \n",
       "2016             1377   2617           780     398           687    11590  \n",
       "rowtotal        18184  62905         20425    6182          7307   166851  "
      ]
     },
     "execution_count": 35,
     "metadata": {},
     "output_type": "execute_result"
    }
   ],
   "source": [
    "summer_con_classified.rename(columns={'All':'coltotal'},index={'All':'rowtotal'},inplace=True)\n",
    "summer_con_classified.tail()"
   ]
  },
  {
   "cell_type": "code",
   "execution_count": 36,
   "metadata": {},
   "outputs": [
    {
     "data": {
      "text/html": [
       "<div>\n",
       "<style scoped>\n",
       "    .dataframe tbody tr th:only-of-type {\n",
       "        vertical-align: middle;\n",
       "    }\n",
       "\n",
       "    .dataframe tbody tr th {\n",
       "        vertical-align: top;\n",
       "    }\n",
       "\n",
       "    .dataframe thead tr th {\n",
       "        text-align: left;\n",
       "    }\n",
       "\n",
       "    .dataframe thead tr:last-of-type th {\n",
       "        text-align: right;\n",
       "    }\n",
       "</style>\n",
       "<table border=\"1\" class=\"dataframe\">\n",
       "  <thead>\n",
       "    <tr>\n",
       "      <th>Sex</th>\n",
       "      <th colspan=\"6\" halign=\"left\">F</th>\n",
       "      <th colspan=\"6\" halign=\"left\">M</th>\n",
       "      <th>coltotal</th>\n",
       "    </tr>\n",
       "    <tr>\n",
       "      <th>Continent_Name</th>\n",
       "      <th>Africa</th>\n",
       "      <th>Asia</th>\n",
       "      <th>Europe</th>\n",
       "      <th>North America</th>\n",
       "      <th>Oceania</th>\n",
       "      <th>South America</th>\n",
       "      <th>Africa</th>\n",
       "      <th>Asia</th>\n",
       "      <th>Europe</th>\n",
       "      <th>North America</th>\n",
       "      <th>Oceania</th>\n",
       "      <th>South America</th>\n",
       "      <th></th>\n",
       "    </tr>\n",
       "    <tr>\n",
       "      <th>Year</th>\n",
       "      <th></th>\n",
       "      <th></th>\n",
       "      <th></th>\n",
       "      <th></th>\n",
       "      <th></th>\n",
       "      <th></th>\n",
       "      <th></th>\n",
       "      <th></th>\n",
       "      <th></th>\n",
       "      <th></th>\n",
       "      <th></th>\n",
       "      <th></th>\n",
       "      <th></th>\n",
       "    </tr>\n",
       "  </thead>\n",
       "  <tbody>\n",
       "    <tr>\n",
       "      <td>2004</td>\n",
       "      <td>0.011421</td>\n",
       "      <td>0.111241</td>\n",
       "      <td>0.174281</td>\n",
       "      <td>0.065288</td>\n",
       "      <td>0.032914</td>\n",
       "      <td>0.025450</td>\n",
       "      <td>0.030935</td>\n",
       "      <td>0.135162</td>\n",
       "      <td>0.262590</td>\n",
       "      <td>0.075540</td>\n",
       "      <td>0.040198</td>\n",
       "      <td>0.034982</td>\n",
       "      <td>1.0</td>\n",
       "    </tr>\n",
       "    <tr>\n",
       "      <td>2008</td>\n",
       "      <td>0.012941</td>\n",
       "      <td>0.114081</td>\n",
       "      <td>0.187723</td>\n",
       "      <td>0.062064</td>\n",
       "      <td>0.031841</td>\n",
       "      <td>0.028435</td>\n",
       "      <td>0.025541</td>\n",
       "      <td>0.141410</td>\n",
       "      <td>0.246297</td>\n",
       "      <td>0.076707</td>\n",
       "      <td>0.037289</td>\n",
       "      <td>0.035672</td>\n",
       "      <td>1.0</td>\n",
       "    </tr>\n",
       "    <tr>\n",
       "      <td>2012</td>\n",
       "      <td>0.017591</td>\n",
       "      <td>0.111940</td>\n",
       "      <td>0.203625</td>\n",
       "      <td>0.063788</td>\n",
       "      <td>0.031805</td>\n",
       "      <td>0.027985</td>\n",
       "      <td>0.033227</td>\n",
       "      <td>0.124733</td>\n",
       "      <td>0.248845</td>\n",
       "      <td>0.063611</td>\n",
       "      <td>0.036247</td>\n",
       "      <td>0.036603</td>\n",
       "      <td>1.0</td>\n",
       "    </tr>\n",
       "    <tr>\n",
       "      <td>2016</td>\n",
       "      <td>0.020708</td>\n",
       "      <td>0.108024</td>\n",
       "      <td>0.190595</td>\n",
       "      <td>0.069543</td>\n",
       "      <td>0.034167</td>\n",
       "      <td>0.042192</td>\n",
       "      <td>0.029249</td>\n",
       "      <td>0.118809</td>\n",
       "      <td>0.225798</td>\n",
       "      <td>0.067299</td>\n",
       "      <td>0.034340</td>\n",
       "      <td>0.059275</td>\n",
       "      <td>1.0</td>\n",
       "    </tr>\n",
       "    <tr>\n",
       "      <td>rowtotal</td>\n",
       "      <td>0.007270</td>\n",
       "      <td>0.057243</td>\n",
       "      <td>0.127946</td>\n",
       "      <td>0.051351</td>\n",
       "      <td>0.020419</td>\n",
       "      <td>0.014780</td>\n",
       "      <td>0.031735</td>\n",
       "      <td>0.108983</td>\n",
       "      <td>0.377013</td>\n",
       "      <td>0.122415</td>\n",
       "      <td>0.037051</td>\n",
       "      <td>0.043794</td>\n",
       "      <td>1.0</td>\n",
       "    </tr>\n",
       "  </tbody>\n",
       "</table>\n",
       "</div>"
      ],
      "text/plain": [
       "Sex                    F                                              \\\n",
       "Continent_Name    Africa      Asia    Europe North America   Oceania   \n",
       "Year                                                                   \n",
       "2004            0.011421  0.111241  0.174281      0.065288  0.032914   \n",
       "2008            0.012941  0.114081  0.187723      0.062064  0.031841   \n",
       "2012            0.017591  0.111940  0.203625      0.063788  0.031805   \n",
       "2016            0.020708  0.108024  0.190595      0.069543  0.034167   \n",
       "rowtotal        0.007270  0.057243  0.127946      0.051351  0.020419   \n",
       "\n",
       "Sex                                  M                                    \\\n",
       "Continent_Name South America    Africa      Asia    Europe North America   \n",
       "Year                                                                       \n",
       "2004                0.025450  0.030935  0.135162  0.262590      0.075540   \n",
       "2008                0.028435  0.025541  0.141410  0.246297      0.076707   \n",
       "2012                0.027985  0.033227  0.124733  0.248845      0.063611   \n",
       "2016                0.042192  0.029249  0.118809  0.225798      0.067299   \n",
       "rowtotal            0.014780  0.031735  0.108983  0.377013      0.122415   \n",
       "\n",
       "Sex                                    coltotal  \n",
       "Continent_Name   Oceania South America           \n",
       "Year                                             \n",
       "2004            0.040198      0.034982      1.0  \n",
       "2008            0.037289      0.035672      1.0  \n",
       "2012            0.036247      0.036603      1.0  \n",
       "2016            0.034340      0.059275      1.0  \n",
       "rowtotal        0.037051      0.043794      1.0  "
      ]
     },
     "execution_count": 36,
     "metadata": {},
     "output_type": "execute_result"
    }
   ],
   "source": [
    "df=summer_con_classified.div(summer_con_classified['coltotal'],axis=0)\n",
    "df.tail()"
   ]
  },
  {
   "cell_type": "code",
   "execution_count": 37,
   "metadata": {},
   "outputs": [
    {
     "data": {
      "text/html": [
       "<div>\n",
       "<style scoped>\n",
       "    .dataframe tbody tr th:only-of-type {\n",
       "        vertical-align: middle;\n",
       "    }\n",
       "\n",
       "    .dataframe tbody tr th {\n",
       "        vertical-align: top;\n",
       "    }\n",
       "\n",
       "    .dataframe thead tr th {\n",
       "        text-align: left;\n",
       "    }\n",
       "\n",
       "    .dataframe thead tr:last-of-type th {\n",
       "        text-align: right;\n",
       "    }\n",
       "</style>\n",
       "<table border=\"1\" class=\"dataframe\">\n",
       "  <thead>\n",
       "    <tr>\n",
       "      <th>Sex</th>\n",
       "      <th colspan=\"6\" halign=\"left\">F</th>\n",
       "      <th colspan=\"6\" halign=\"left\">M</th>\n",
       "      <th>coltotal</th>\n",
       "      <th>female_percentage</th>\n",
       "    </tr>\n",
       "    <tr>\n",
       "      <th>Continent_Name</th>\n",
       "      <th>Africa</th>\n",
       "      <th>Asia</th>\n",
       "      <th>Europe</th>\n",
       "      <th>North America</th>\n",
       "      <th>Oceania</th>\n",
       "      <th>South America</th>\n",
       "      <th>Africa</th>\n",
       "      <th>Asia</th>\n",
       "      <th>Europe</th>\n",
       "      <th>North America</th>\n",
       "      <th>Oceania</th>\n",
       "      <th>South America</th>\n",
       "      <th></th>\n",
       "      <th></th>\n",
       "    </tr>\n",
       "    <tr>\n",
       "      <th>Year</th>\n",
       "      <th></th>\n",
       "      <th></th>\n",
       "      <th></th>\n",
       "      <th></th>\n",
       "      <th></th>\n",
       "      <th></th>\n",
       "      <th></th>\n",
       "      <th></th>\n",
       "      <th></th>\n",
       "      <th></th>\n",
       "      <th></th>\n",
       "      <th></th>\n",
       "      <th></th>\n",
       "      <th></th>\n",
       "    </tr>\n",
       "  </thead>\n",
       "  <tbody>\n",
       "    <tr>\n",
       "      <td>2000</td>\n",
       "      <td>0.013364</td>\n",
       "      <td>0.092264</td>\n",
       "      <td>0.175705</td>\n",
       "      <td>0.063737</td>\n",
       "      <td>0.039750</td>\n",
       "      <td>0.019104</td>\n",
       "      <td>0.029898</td>\n",
       "      <td>0.134841</td>\n",
       "      <td>0.276364</td>\n",
       "      <td>0.080356</td>\n",
       "      <td>0.045147</td>\n",
       "      <td>0.029470</td>\n",
       "      <td>1.0</td>\n",
       "      <td>0.384820</td>\n",
       "    </tr>\n",
       "    <tr>\n",
       "      <td>2004</td>\n",
       "      <td>0.011421</td>\n",
       "      <td>0.111241</td>\n",
       "      <td>0.174281</td>\n",
       "      <td>0.065288</td>\n",
       "      <td>0.032914</td>\n",
       "      <td>0.025450</td>\n",
       "      <td>0.030935</td>\n",
       "      <td>0.135162</td>\n",
       "      <td>0.262590</td>\n",
       "      <td>0.075540</td>\n",
       "      <td>0.040198</td>\n",
       "      <td>0.034982</td>\n",
       "      <td>1.0</td>\n",
       "      <td>0.395144</td>\n",
       "    </tr>\n",
       "    <tr>\n",
       "      <td>2008</td>\n",
       "      <td>0.012941</td>\n",
       "      <td>0.114081</td>\n",
       "      <td>0.187723</td>\n",
       "      <td>0.062064</td>\n",
       "      <td>0.031841</td>\n",
       "      <td>0.028435</td>\n",
       "      <td>0.025541</td>\n",
       "      <td>0.141410</td>\n",
       "      <td>0.246297</td>\n",
       "      <td>0.076707</td>\n",
       "      <td>0.037289</td>\n",
       "      <td>0.035672</td>\n",
       "      <td>1.0</td>\n",
       "      <td>0.408650</td>\n",
       "    </tr>\n",
       "    <tr>\n",
       "      <td>2012</td>\n",
       "      <td>0.017591</td>\n",
       "      <td>0.111940</td>\n",
       "      <td>0.203625</td>\n",
       "      <td>0.063788</td>\n",
       "      <td>0.031805</td>\n",
       "      <td>0.027985</td>\n",
       "      <td>0.033227</td>\n",
       "      <td>0.124733</td>\n",
       "      <td>0.248845</td>\n",
       "      <td>0.063611</td>\n",
       "      <td>0.036247</td>\n",
       "      <td>0.036603</td>\n",
       "      <td>1.0</td>\n",
       "      <td>0.428749</td>\n",
       "    </tr>\n",
       "    <tr>\n",
       "      <td>2016</td>\n",
       "      <td>0.020708</td>\n",
       "      <td>0.108024</td>\n",
       "      <td>0.190595</td>\n",
       "      <td>0.069543</td>\n",
       "      <td>0.034167</td>\n",
       "      <td>0.042192</td>\n",
       "      <td>0.029249</td>\n",
       "      <td>0.118809</td>\n",
       "      <td>0.225798</td>\n",
       "      <td>0.067299</td>\n",
       "      <td>0.034340</td>\n",
       "      <td>0.059275</td>\n",
       "      <td>1.0</td>\n",
       "      <td>0.423037</td>\n",
       "    </tr>\n",
       "    <tr>\n",
       "      <td>rowtotal</td>\n",
       "      <td>0.007270</td>\n",
       "      <td>0.057243</td>\n",
       "      <td>0.127946</td>\n",
       "      <td>0.051351</td>\n",
       "      <td>0.020419</td>\n",
       "      <td>0.014780</td>\n",
       "      <td>0.031735</td>\n",
       "      <td>0.108983</td>\n",
       "      <td>0.377013</td>\n",
       "      <td>0.122415</td>\n",
       "      <td>0.037051</td>\n",
       "      <td>0.043794</td>\n",
       "      <td>1.0</td>\n",
       "      <td>0.264230</td>\n",
       "    </tr>\n",
       "  </tbody>\n",
       "</table>\n",
       "</div>"
      ],
      "text/plain": [
       "Sex                    F                                              \\\n",
       "Continent_Name    Africa      Asia    Europe North America   Oceania   \n",
       "Year                                                                   \n",
       "2000            0.013364  0.092264  0.175705      0.063737  0.039750   \n",
       "2004            0.011421  0.111241  0.174281      0.065288  0.032914   \n",
       "2008            0.012941  0.114081  0.187723      0.062064  0.031841   \n",
       "2012            0.017591  0.111940  0.203625      0.063788  0.031805   \n",
       "2016            0.020708  0.108024  0.190595      0.069543  0.034167   \n",
       "rowtotal        0.007270  0.057243  0.127946      0.051351  0.020419   \n",
       "\n",
       "Sex                                  M                                    \\\n",
       "Continent_Name South America    Africa      Asia    Europe North America   \n",
       "Year                                                                       \n",
       "2000                0.019104  0.029898  0.134841  0.276364      0.080356   \n",
       "2004                0.025450  0.030935  0.135162  0.262590      0.075540   \n",
       "2008                0.028435  0.025541  0.141410  0.246297      0.076707   \n",
       "2012                0.027985  0.033227  0.124733  0.248845      0.063611   \n",
       "2016                0.042192  0.029249  0.118809  0.225798      0.067299   \n",
       "rowtotal            0.014780  0.031735  0.108983  0.377013      0.122415   \n",
       "\n",
       "Sex                                    coltotal female_percentage  \n",
       "Continent_Name   Oceania South America                             \n",
       "Year                                                               \n",
       "2000            0.045147      0.029470      1.0          0.384820  \n",
       "2004            0.040198      0.034982      1.0          0.395144  \n",
       "2008            0.037289      0.035672      1.0          0.408650  \n",
       "2012            0.036247      0.036603      1.0          0.428749  \n",
       "2016            0.034340      0.059275      1.0          0.423037  \n",
       "rowtotal        0.037051      0.043794      1.0          0.264230  "
      ]
     },
     "execution_count": 37,
     "metadata": {},
     "output_type": "execute_result"
    }
   ],
   "source": [
    "df['female_percentage']=df.iloc[:,0:5].sum(axis=1)\n",
    "df.tail(6)"
   ]
  },
  {
   "cell_type": "code",
   "execution_count": 38,
   "metadata": {},
   "outputs": [
    {
     "data": {
      "text/html": [
       "<div>\n",
       "<style scoped>\n",
       "    .dataframe tbody tr th:only-of-type {\n",
       "        vertical-align: middle;\n",
       "    }\n",
       "\n",
       "    .dataframe tbody tr th {\n",
       "        vertical-align: top;\n",
       "    }\n",
       "\n",
       "    .dataframe thead tr th {\n",
       "        text-align: left;\n",
       "    }\n",
       "\n",
       "    .dataframe thead tr:last-of-type th {\n",
       "        text-align: right;\n",
       "    }\n",
       "</style>\n",
       "<table border=\"1\" class=\"dataframe\">\n",
       "  <thead>\n",
       "    <tr>\n",
       "      <th>Sex</th>\n",
       "      <th colspan=\"6\" halign=\"left\">F</th>\n",
       "      <th colspan=\"6\" halign=\"left\">M</th>\n",
       "      <th>coltotal</th>\n",
       "      <th>female_percentage</th>\n",
       "    </tr>\n",
       "    <tr>\n",
       "      <th>Continent_Name</th>\n",
       "      <th>Africa</th>\n",
       "      <th>Asia</th>\n",
       "      <th>Europe</th>\n",
       "      <th>North America</th>\n",
       "      <th>Oceania</th>\n",
       "      <th>South America</th>\n",
       "      <th>Africa</th>\n",
       "      <th>Asia</th>\n",
       "      <th>Europe</th>\n",
       "      <th>North America</th>\n",
       "      <th>Oceania</th>\n",
       "      <th>South America</th>\n",
       "      <th></th>\n",
       "      <th></th>\n",
       "    </tr>\n",
       "    <tr>\n",
       "      <th>Year</th>\n",
       "      <th></th>\n",
       "      <th></th>\n",
       "      <th></th>\n",
       "      <th></th>\n",
       "      <th></th>\n",
       "      <th></th>\n",
       "      <th></th>\n",
       "      <th></th>\n",
       "      <th></th>\n",
       "      <th></th>\n",
       "      <th></th>\n",
       "      <th></th>\n",
       "      <th></th>\n",
       "      <th></th>\n",
       "    </tr>\n",
       "  </thead>\n",
       "  <tbody>\n",
       "    <tr>\n",
       "      <td>2000</td>\n",
       "      <td>0.013364</td>\n",
       "      <td>0.092264</td>\n",
       "      <td>0.175705</td>\n",
       "      <td>0.063737</td>\n",
       "      <td>0.039750</td>\n",
       "      <td>0.019104</td>\n",
       "      <td>0.029898</td>\n",
       "      <td>0.134841</td>\n",
       "      <td>0.276364</td>\n",
       "      <td>0.080356</td>\n",
       "      <td>0.045147</td>\n",
       "      <td>0.029470</td>\n",
       "      <td>1.0</td>\n",
       "      <td>0.384820</td>\n",
       "    </tr>\n",
       "    <tr>\n",
       "      <td>2004</td>\n",
       "      <td>0.011421</td>\n",
       "      <td>0.111241</td>\n",
       "      <td>0.174281</td>\n",
       "      <td>0.065288</td>\n",
       "      <td>0.032914</td>\n",
       "      <td>0.025450</td>\n",
       "      <td>0.030935</td>\n",
       "      <td>0.135162</td>\n",
       "      <td>0.262590</td>\n",
       "      <td>0.075540</td>\n",
       "      <td>0.040198</td>\n",
       "      <td>0.034982</td>\n",
       "      <td>1.0</td>\n",
       "      <td>0.395144</td>\n",
       "    </tr>\n",
       "    <tr>\n",
       "      <td>2008</td>\n",
       "      <td>0.012941</td>\n",
       "      <td>0.114081</td>\n",
       "      <td>0.187723</td>\n",
       "      <td>0.062064</td>\n",
       "      <td>0.031841</td>\n",
       "      <td>0.028435</td>\n",
       "      <td>0.025541</td>\n",
       "      <td>0.141410</td>\n",
       "      <td>0.246297</td>\n",
       "      <td>0.076707</td>\n",
       "      <td>0.037289</td>\n",
       "      <td>0.035672</td>\n",
       "      <td>1.0</td>\n",
       "      <td>0.408650</td>\n",
       "    </tr>\n",
       "    <tr>\n",
       "      <td>2012</td>\n",
       "      <td>0.017591</td>\n",
       "      <td>0.111940</td>\n",
       "      <td>0.203625</td>\n",
       "      <td>0.063788</td>\n",
       "      <td>0.031805</td>\n",
       "      <td>0.027985</td>\n",
       "      <td>0.033227</td>\n",
       "      <td>0.124733</td>\n",
       "      <td>0.248845</td>\n",
       "      <td>0.063611</td>\n",
       "      <td>0.036247</td>\n",
       "      <td>0.036603</td>\n",
       "      <td>1.0</td>\n",
       "      <td>0.428749</td>\n",
       "    </tr>\n",
       "    <tr>\n",
       "      <td>2016</td>\n",
       "      <td>0.020708</td>\n",
       "      <td>0.108024</td>\n",
       "      <td>0.190595</td>\n",
       "      <td>0.069543</td>\n",
       "      <td>0.034167</td>\n",
       "      <td>0.042192</td>\n",
       "      <td>0.029249</td>\n",
       "      <td>0.118809</td>\n",
       "      <td>0.225798</td>\n",
       "      <td>0.067299</td>\n",
       "      <td>0.034340</td>\n",
       "      <td>0.059275</td>\n",
       "      <td>1.0</td>\n",
       "      <td>0.423037</td>\n",
       "    </tr>\n",
       "  </tbody>\n",
       "</table>\n",
       "</div>"
      ],
      "text/plain": [
       "Sex                    F                                              \\\n",
       "Continent_Name    Africa      Asia    Europe North America   Oceania   \n",
       "Year                                                                   \n",
       "2000            0.013364  0.092264  0.175705      0.063737  0.039750   \n",
       "2004            0.011421  0.111241  0.174281      0.065288  0.032914   \n",
       "2008            0.012941  0.114081  0.187723      0.062064  0.031841   \n",
       "2012            0.017591  0.111940  0.203625      0.063788  0.031805   \n",
       "2016            0.020708  0.108024  0.190595      0.069543  0.034167   \n",
       "\n",
       "Sex                                  M                                    \\\n",
       "Continent_Name South America    Africa      Asia    Europe North America   \n",
       "Year                                                                       \n",
       "2000                0.019104  0.029898  0.134841  0.276364      0.080356   \n",
       "2004                0.025450  0.030935  0.135162  0.262590      0.075540   \n",
       "2008                0.028435  0.025541  0.141410  0.246297      0.076707   \n",
       "2012                0.027985  0.033227  0.124733  0.248845      0.063611   \n",
       "2016                0.042192  0.029249  0.118809  0.225798      0.067299   \n",
       "\n",
       "Sex                                    coltotal female_percentage  \n",
       "Continent_Name   Oceania South America                             \n",
       "Year                                                               \n",
       "2000            0.045147      0.029470      1.0          0.384820  \n",
       "2004            0.040198      0.034982      1.0          0.395144  \n",
       "2008            0.037289      0.035672      1.0          0.408650  \n",
       "2012            0.036247      0.036603      1.0          0.428749  \n",
       "2016            0.034340      0.059275      1.0          0.423037  "
      ]
     },
     "execution_count": 38,
     "metadata": {},
     "output_type": "execute_result"
    }
   ],
   "source": [
    "df_norow=df.drop(df.tail(1).index,inplace=False)\n",
    "df_norow.tail()"
   ]
  },
  {
   "cell_type": "code",
   "execution_count": 39,
   "metadata": {},
   "outputs": [
    {
     "data": {
      "text/html": [
       "<div>\n",
       "<style scoped>\n",
       "    .dataframe tbody tr th:only-of-type {\n",
       "        vertical-align: middle;\n",
       "    }\n",
       "\n",
       "    .dataframe tbody tr th {\n",
       "        vertical-align: top;\n",
       "    }\n",
       "\n",
       "    .dataframe thead tr th {\n",
       "        text-align: left;\n",
       "    }\n",
       "\n",
       "    .dataframe thead tr:last-of-type th {\n",
       "        text-align: right;\n",
       "    }\n",
       "</style>\n",
       "<table border=\"1\" class=\"dataframe\">\n",
       "  <thead>\n",
       "    <tr>\n",
       "      <th>Sex</th>\n",
       "      <th colspan=\"6\" halign=\"left\">F</th>\n",
       "      <th>coltotal</th>\n",
       "      <th>female_percentage</th>\n",
       "    </tr>\n",
       "    <tr>\n",
       "      <th>Continent_Name</th>\n",
       "      <th>Africa</th>\n",
       "      <th>Asia</th>\n",
       "      <th>Europe</th>\n",
       "      <th>North America</th>\n",
       "      <th>Oceania</th>\n",
       "      <th>South America</th>\n",
       "      <th></th>\n",
       "      <th></th>\n",
       "    </tr>\n",
       "    <tr>\n",
       "      <th>Year</th>\n",
       "      <th></th>\n",
       "      <th></th>\n",
       "      <th></th>\n",
       "      <th></th>\n",
       "      <th></th>\n",
       "      <th></th>\n",
       "      <th></th>\n",
       "      <th></th>\n",
       "    </tr>\n",
       "  </thead>\n",
       "  <tbody>\n",
       "    <tr>\n",
       "      <td>2000</td>\n",
       "      <td>0.013364</td>\n",
       "      <td>0.092264</td>\n",
       "      <td>0.175705</td>\n",
       "      <td>0.063737</td>\n",
       "      <td>0.039750</td>\n",
       "      <td>0.019104</td>\n",
       "      <td>1.0</td>\n",
       "      <td>0.384820</td>\n",
       "    </tr>\n",
       "    <tr>\n",
       "      <td>2004</td>\n",
       "      <td>0.011421</td>\n",
       "      <td>0.111241</td>\n",
       "      <td>0.174281</td>\n",
       "      <td>0.065288</td>\n",
       "      <td>0.032914</td>\n",
       "      <td>0.025450</td>\n",
       "      <td>1.0</td>\n",
       "      <td>0.395144</td>\n",
       "    </tr>\n",
       "    <tr>\n",
       "      <td>2008</td>\n",
       "      <td>0.012941</td>\n",
       "      <td>0.114081</td>\n",
       "      <td>0.187723</td>\n",
       "      <td>0.062064</td>\n",
       "      <td>0.031841</td>\n",
       "      <td>0.028435</td>\n",
       "      <td>1.0</td>\n",
       "      <td>0.408650</td>\n",
       "    </tr>\n",
       "    <tr>\n",
       "      <td>2012</td>\n",
       "      <td>0.017591</td>\n",
       "      <td>0.111940</td>\n",
       "      <td>0.203625</td>\n",
       "      <td>0.063788</td>\n",
       "      <td>0.031805</td>\n",
       "      <td>0.027985</td>\n",
       "      <td>1.0</td>\n",
       "      <td>0.428749</td>\n",
       "    </tr>\n",
       "    <tr>\n",
       "      <td>2016</td>\n",
       "      <td>0.020708</td>\n",
       "      <td>0.108024</td>\n",
       "      <td>0.190595</td>\n",
       "      <td>0.069543</td>\n",
       "      <td>0.034167</td>\n",
       "      <td>0.042192</td>\n",
       "      <td>1.0</td>\n",
       "      <td>0.423037</td>\n",
       "    </tr>\n",
       "  </tbody>\n",
       "</table>\n",
       "</div>"
      ],
      "text/plain": [
       "Sex                    F                                              \\\n",
       "Continent_Name    Africa      Asia    Europe North America   Oceania   \n",
       "Year                                                                   \n",
       "2000            0.013364  0.092264  0.175705      0.063737  0.039750   \n",
       "2004            0.011421  0.111241  0.174281      0.065288  0.032914   \n",
       "2008            0.012941  0.114081  0.187723      0.062064  0.031841   \n",
       "2012            0.017591  0.111940  0.203625      0.063788  0.031805   \n",
       "2016            0.020708  0.108024  0.190595      0.069543  0.034167   \n",
       "\n",
       "Sex                          coltotal female_percentage  \n",
       "Continent_Name South America                             \n",
       "Year                                                     \n",
       "2000                0.019104      1.0          0.384820  \n",
       "2004                0.025450      1.0          0.395144  \n",
       "2008                0.028435      1.0          0.408650  \n",
       "2012                0.027985      1.0          0.428749  \n",
       "2016                0.042192      1.0          0.423037  "
      ]
     },
     "execution_count": 39,
     "metadata": {},
     "output_type": "execute_result"
    }
   ],
   "source": [
    "df_norow_female=df_norow.drop(df_norow.iloc[:,6:12],axis=1,inplace=False)\n",
    "df_norow_female.tail()"
   ]
  },
  {
   "cell_type": "code",
   "execution_count": 40,
   "metadata": {},
   "outputs": [
    {
     "data": {
      "text/html": [
       "<div>\n",
       "<style scoped>\n",
       "    .dataframe tbody tr th:only-of-type {\n",
       "        vertical-align: middle;\n",
       "    }\n",
       "\n",
       "    .dataframe tbody tr th {\n",
       "        vertical-align: top;\n",
       "    }\n",
       "\n",
       "    .dataframe thead tr th {\n",
       "        text-align: left;\n",
       "    }\n",
       "\n",
       "    .dataframe thead tr:last-of-type th {\n",
       "        text-align: right;\n",
       "    }\n",
       "</style>\n",
       "<table border=\"1\" class=\"dataframe\">\n",
       "  <thead>\n",
       "    <tr>\n",
       "      <th>Sex</th>\n",
       "      <th colspan=\"6\" halign=\"left\">F</th>\n",
       "      <th colspan=\"6\" halign=\"left\">M</th>\n",
       "    </tr>\n",
       "    <tr>\n",
       "      <th>Continent_Name</th>\n",
       "      <th>Africa</th>\n",
       "      <th>Asia</th>\n",
       "      <th>Europe</th>\n",
       "      <th>North America</th>\n",
       "      <th>Oceania</th>\n",
       "      <th>South America</th>\n",
       "      <th>Africa</th>\n",
       "      <th>Asia</th>\n",
       "      <th>Europe</th>\n",
       "      <th>North America</th>\n",
       "      <th>Oceania</th>\n",
       "      <th>South America</th>\n",
       "    </tr>\n",
       "    <tr>\n",
       "      <th>Year</th>\n",
       "      <th></th>\n",
       "      <th></th>\n",
       "      <th></th>\n",
       "      <th></th>\n",
       "      <th></th>\n",
       "      <th></th>\n",
       "      <th></th>\n",
       "      <th></th>\n",
       "      <th></th>\n",
       "      <th></th>\n",
       "      <th></th>\n",
       "      <th></th>\n",
       "    </tr>\n",
       "  </thead>\n",
       "  <tbody>\n",
       "    <tr>\n",
       "      <td>2000</td>\n",
       "      <td>156</td>\n",
       "      <td>1077</td>\n",
       "      <td>2051</td>\n",
       "      <td>744</td>\n",
       "      <td>464</td>\n",
       "      <td>223</td>\n",
       "      <td>349</td>\n",
       "      <td>1574</td>\n",
       "      <td>3226</td>\n",
       "      <td>938</td>\n",
       "      <td>527</td>\n",
       "      <td>344</td>\n",
       "    </tr>\n",
       "    <tr>\n",
       "      <td>2004</td>\n",
       "      <td>127</td>\n",
       "      <td>1237</td>\n",
       "      <td>1938</td>\n",
       "      <td>726</td>\n",
       "      <td>366</td>\n",
       "      <td>283</td>\n",
       "      <td>344</td>\n",
       "      <td>1503</td>\n",
       "      <td>2920</td>\n",
       "      <td>840</td>\n",
       "      <td>447</td>\n",
       "      <td>389</td>\n",
       "    </tr>\n",
       "    <tr>\n",
       "      <td>2008</td>\n",
       "      <td>152</td>\n",
       "      <td>1340</td>\n",
       "      <td>2205</td>\n",
       "      <td>729</td>\n",
       "      <td>374</td>\n",
       "      <td>334</td>\n",
       "      <td>300</td>\n",
       "      <td>1661</td>\n",
       "      <td>2893</td>\n",
       "      <td>901</td>\n",
       "      <td>438</td>\n",
       "      <td>419</td>\n",
       "    </tr>\n",
       "    <tr>\n",
       "      <td>2012</td>\n",
       "      <td>198</td>\n",
       "      <td>1260</td>\n",
       "      <td>2292</td>\n",
       "      <td>718</td>\n",
       "      <td>358</td>\n",
       "      <td>315</td>\n",
       "      <td>374</td>\n",
       "      <td>1404</td>\n",
       "      <td>2801</td>\n",
       "      <td>716</td>\n",
       "      <td>408</td>\n",
       "      <td>412</td>\n",
       "    </tr>\n",
       "    <tr>\n",
       "      <td>2016</td>\n",
       "      <td>240</td>\n",
       "      <td>1252</td>\n",
       "      <td>2209</td>\n",
       "      <td>806</td>\n",
       "      <td>396</td>\n",
       "      <td>489</td>\n",
       "      <td>339</td>\n",
       "      <td>1377</td>\n",
       "      <td>2617</td>\n",
       "      <td>780</td>\n",
       "      <td>398</td>\n",
       "      <td>687</td>\n",
       "    </tr>\n",
       "  </tbody>\n",
       "</table>\n",
       "</div>"
      ],
      "text/plain": [
       "Sex                 F                                                       M  \\\n",
       "Continent_Name Africa  Asia Europe North America Oceania South America Africa   \n",
       "Year                                                                            \n",
       "2000              156  1077   2051           744     464           223    349   \n",
       "2004              127  1237   1938           726     366           283    344   \n",
       "2008              152  1340   2205           729     374           334    300   \n",
       "2012              198  1260   2292           718     358           315    374   \n",
       "2016              240  1252   2209           806     396           489    339   \n",
       "\n",
       "Sex                                                              \n",
       "Continent_Name  Asia Europe North America Oceania South America  \n",
       "Year                                                             \n",
       "2000            1574   3226           938     527           344  \n",
       "2004            1503   2920           840     447           389  \n",
       "2008            1661   2893           901     438           419  \n",
       "2012            1404   2801           716     408           412  \n",
       "2016            1377   2617           780     398           687  "
      ]
     },
     "execution_count": 40,
     "metadata": {},
     "output_type": "execute_result"
    }
   ],
   "source": [
    "# Here I'll re-do what I have done. \n",
    "summer_con_classified2=pd.crosstab(summer_con_simple.Year, [summer_con_simple.Sex,summer_con_simple.Continent_Name])\n",
    "summer_con_classified2.tail()"
   ]
  },
  {
   "cell_type": "code",
   "execution_count": 41,
   "metadata": {},
   "outputs": [
    {
     "data": {
      "text/html": [
       "<div>\n",
       "<style scoped>\n",
       "    .dataframe tbody tr th:only-of-type {\n",
       "        vertical-align: middle;\n",
       "    }\n",
       "\n",
       "    .dataframe tbody tr th {\n",
       "        vertical-align: top;\n",
       "    }\n",
       "\n",
       "    .dataframe thead th {\n",
       "        text-align: right;\n",
       "    }\n",
       "</style>\n",
       "<table border=\"1\" class=\"dataframe\">\n",
       "  <thead>\n",
       "    <tr style=\"text-align: right;\">\n",
       "      <th></th>\n",
       "      <th>year</th>\n",
       "      <th>all</th>\n",
       "      <th>f_prct</th>\n",
       "      <th>sex</th>\n",
       "      <th>frequencies</th>\n",
       "      <th>female_percent</th>\n",
       "    </tr>\n",
       "  </thead>\n",
       "  <tbody>\n",
       "    <tr>\n",
       "      <td>53</td>\n",
       "      <td>2000</td>\n",
       "      <td>13821</td>\n",
       "      <td>0.392953</td>\n",
       "      <td>M</td>\n",
       "      <td>8390</td>\n",
       "      <td>39.3</td>\n",
       "    </tr>\n",
       "    <tr>\n",
       "      <td>54</td>\n",
       "      <td>2004</td>\n",
       "      <td>13443</td>\n",
       "      <td>0.412557</td>\n",
       "      <td>M</td>\n",
       "      <td>7897</td>\n",
       "      <td>41.3</td>\n",
       "    </tr>\n",
       "    <tr>\n",
       "      <td>55</td>\n",
       "      <td>2008</td>\n",
       "      <td>13602</td>\n",
       "      <td>0.427584</td>\n",
       "      <td>M</td>\n",
       "      <td>7786</td>\n",
       "      <td>42.8</td>\n",
       "    </tr>\n",
       "    <tr>\n",
       "      <td>56</td>\n",
       "      <td>2012</td>\n",
       "      <td>12920</td>\n",
       "      <td>0.450077</td>\n",
       "      <td>M</td>\n",
       "      <td>7105</td>\n",
       "      <td>45.0</td>\n",
       "    </tr>\n",
       "    <tr>\n",
       "      <td>57</td>\n",
       "      <td>2016</td>\n",
       "      <td>13688</td>\n",
       "      <td>0.454632</td>\n",
       "      <td>M</td>\n",
       "      <td>7465</td>\n",
       "      <td>45.5</td>\n",
       "    </tr>\n",
       "  </tbody>\n",
       "</table>\n",
       "</div>"
      ],
      "text/plain": [
       "    year    all    f_prct sex  frequencies  female_percent\n",
       "53  2000  13821  0.392953   M         8390            39.3\n",
       "54  2004  13443  0.412557   M         7897            41.3\n",
       "55  2008  13602  0.427584   M         7786            42.8\n",
       "56  2012  12920  0.450077   M         7105            45.0\n",
       "57  2016  13688  0.454632   M         7465            45.5"
      ]
     },
     "execution_count": 41,
     "metadata": {},
     "output_type": "execute_result"
    }
   ],
   "source": [
    "female_dcast_tidy_df.tail()"
   ]
  },
  {
   "cell_type": "code",
   "execution_count": 42,
   "metadata": {},
   "outputs": [
    {
     "data": {
      "text/html": [
       "<div>\n",
       "<style scoped>\n",
       "    .dataframe tbody tr th:only-of-type {\n",
       "        vertical-align: middle;\n",
       "    }\n",
       "\n",
       "    .dataframe tbody tr th {\n",
       "        vertical-align: top;\n",
       "    }\n",
       "\n",
       "    .dataframe thead th {\n",
       "        text-align: right;\n",
       "    }\n",
       "</style>\n",
       "<table border=\"1\" class=\"dataframe\">\n",
       "  <thead>\n",
       "    <tr style=\"text-align: right;\">\n",
       "      <th></th>\n",
       "      <th>year</th>\n",
       "      <th>all</th>\n",
       "      <th>f_prct</th>\n",
       "      <th>sex</th>\n",
       "      <th>frequencies</th>\n",
       "      <th>female_percent</th>\n",
       "      <th>male_percentage</th>\n",
       "      <th>percentage</th>\n",
       "    </tr>\n",
       "  </thead>\n",
       "  <tbody>\n",
       "    <tr>\n",
       "      <td>53</td>\n",
       "      <td>2000</td>\n",
       "      <td>13821</td>\n",
       "      <td>0.392953</td>\n",
       "      <td>M</td>\n",
       "      <td>8390</td>\n",
       "      <td>39.3</td>\n",
       "      <td>60.7</td>\n",
       "      <td>0.607047</td>\n",
       "    </tr>\n",
       "    <tr>\n",
       "      <td>54</td>\n",
       "      <td>2004</td>\n",
       "      <td>13443</td>\n",
       "      <td>0.412557</td>\n",
       "      <td>M</td>\n",
       "      <td>7897</td>\n",
       "      <td>41.3</td>\n",
       "      <td>58.7</td>\n",
       "      <td>0.587443</td>\n",
       "    </tr>\n",
       "    <tr>\n",
       "      <td>55</td>\n",
       "      <td>2008</td>\n",
       "      <td>13602</td>\n",
       "      <td>0.427584</td>\n",
       "      <td>M</td>\n",
       "      <td>7786</td>\n",
       "      <td>42.8</td>\n",
       "      <td>57.2</td>\n",
       "      <td>0.572416</td>\n",
       "    </tr>\n",
       "    <tr>\n",
       "      <td>56</td>\n",
       "      <td>2012</td>\n",
       "      <td>12920</td>\n",
       "      <td>0.450077</td>\n",
       "      <td>M</td>\n",
       "      <td>7105</td>\n",
       "      <td>45.0</td>\n",
       "      <td>55.0</td>\n",
       "      <td>0.549923</td>\n",
       "    </tr>\n",
       "    <tr>\n",
       "      <td>57</td>\n",
       "      <td>2016</td>\n",
       "      <td>13688</td>\n",
       "      <td>0.454632</td>\n",
       "      <td>M</td>\n",
       "      <td>7465</td>\n",
       "      <td>45.5</td>\n",
       "      <td>54.5</td>\n",
       "      <td>0.545368</td>\n",
       "    </tr>\n",
       "  </tbody>\n",
       "</table>\n",
       "</div>"
      ],
      "text/plain": [
       "    year    all    f_prct sex  frequencies  female_percent  male_percentage  \\\n",
       "53  2000  13821  0.392953   M         8390            39.3             60.7   \n",
       "54  2004  13443  0.412557   M         7897            41.3             58.7   \n",
       "55  2008  13602  0.427584   M         7786            42.8             57.2   \n",
       "56  2012  12920  0.450077   M         7105            45.0             55.0   \n",
       "57  2016  13688  0.454632   M         7465            45.5             54.5   \n",
       "\n",
       "    percentage  \n",
       "53    0.607047  \n",
       "54    0.587443  \n",
       "55    0.572416  \n",
       "56    0.549923  \n",
       "57    0.545368  "
      ]
     },
     "execution_count": 42,
     "metadata": {},
     "output_type": "execute_result"
    }
   ],
   "source": [
    "female_dcast_tidy_df['male_percentage']=100- female_dcast_tidy_df['female_percent']\n",
    "female_dcast_tidy_df['percentage']=female_dcast_tidy_df['frequencies']/female_dcast_tidy_df['all']\n",
    "female_dcast_tidy_df.tail()\n"
   ]
  },
  {
   "cell_type": "code",
   "execution_count": 61,
   "metadata": {},
   "outputs": [
    {
     "data": {
      "application/vnd.vegalite.v3+json": {
       "$schema": "https://vega.github.io/schema/vega-lite/v3.4.0.json",
       "config": {
        "axis": {
         "labelFontSize": 12,
         "titleFontSize": 14
        },
        "legend": {
         "cornerRadius": 10,
         "fillColor": "#EEEEEE",
         "labelFontSize": 14,
         "padding": 10,
         "strokeColor": "gray"
        },
        "mark": {
         "tooltip": null
        },
        "title": {
         "fontSize": 16
        },
        "view": {
         "height": 300,
         "width": 400
        }
       },
       "data": {
        "name": "data-6504e93c0abe6c7d0695aa04cd68f424"
       },
       "datasets": {
        "data-6504e93c0abe6c7d0695aa04cd68f424": [
         {
          "all": 380,
          "f_prct": 0,
          "female_percent": 0,
          "frequencies": 0,
          "male_percentage": 100,
          "percentage": 0,
          "sex": "F",
          "year": 1896
         },
         {
          "all": 1936,
          "f_prct": 0.0170454545454545,
          "female_percent": 1.7,
          "frequencies": 33,
          "male_percentage": 98.3,
          "percentage": 0.017045454545454544,
          "sex": "F",
          "year": 1900
         },
         {
          "all": 1301,
          "f_prct": 0.0122982321291314,
          "female_percent": 1.2,
          "frequencies": 16,
          "male_percentage": 98.8,
          "percentage": 0.012298232129131437,
          "sex": "F",
          "year": 1904
         },
         {
          "all": 1733,
          "f_prct": 0.00634737449509521,
          "female_percent": 0.6,
          "frequencies": 11,
          "male_percentage": 99.4,
          "percentage": 0.006347374495095211,
          "sex": "F",
          "year": 1906
         },
         {
          "all": 3101,
          "f_prct": 0.0151564011609158,
          "female_percent": 1.5,
          "frequencies": 47,
          "male_percentage": 98.5,
          "percentage": 0.015156401160915834,
          "sex": "F",
          "year": 1908
         },
         {
          "all": 4040,
          "f_prct": 0.0215346534653465,
          "female_percent": 2.2,
          "frequencies": 87,
          "male_percentage": 97.8,
          "percentage": 0.021534653465346533,
          "sex": "F",
          "year": 1912
         },
         {
          "all": 4292,
          "f_prct": 0.0312208760484623,
          "female_percent": 3.1,
          "frequencies": 134,
          "male_percentage": 96.9,
          "percentage": 0.031220876048462257,
          "sex": "F",
          "year": 1920
         },
         {
          "all": 5233,
          "f_prct": 0.0466271737053316,
          "female_percent": 4.7,
          "frequencies": 244,
          "male_percentage": 95.3,
          "percentage": 0.04662717370533155,
          "sex": "F",
          "year": 1924
         },
         {
          "all": 4992,
          "f_prct": 0.0809294871794872,
          "female_percent": 8.1,
          "frequencies": 404,
          "male_percentage": 91.9,
          "percentage": 0.08092948717948718,
          "sex": "F",
          "year": 1928
         },
         {
          "all": 2969,
          "f_prct": 0.116874368474234,
          "female_percent": 11.7,
          "frequencies": 347,
          "male_percentage": 88.3,
          "percentage": 0.11687436847423374,
          "sex": "F",
          "year": 1932
         },
         {
          "all": 6506,
          "f_prct": 0.0719335997540732,
          "female_percent": 7.2,
          "frequencies": 468,
          "male_percentage": 92.8,
          "percentage": 0.07193359975407317,
          "sex": "F",
          "year": 1936
         },
         {
          "all": 6405,
          "f_prct": 0.09804839968774401,
          "female_percent": 9.8,
          "frequencies": 628,
          "male_percentage": 90.2,
          "percentage": 0.09804839968774395,
          "sex": "F",
          "year": 1948
         },
         {
          "all": 8270,
          "f_prct": 0.18101571946795603,
          "female_percent": 18.1,
          "frequencies": 1497,
          "male_percentage": 81.9,
          "percentage": 0.18101571946795647,
          "sex": "F",
          "year": 1952
         },
         {
          "all": 5127,
          "f_prct": 0.174175931343866,
          "female_percent": 17.4,
          "frequencies": 893,
          "male_percentage": 82.6,
          "percentage": 0.1741759313438658,
          "sex": "F",
          "year": 1956
         },
         {
          "all": 8119,
          "f_prct": 0.17674590466806303,
          "female_percent": 17.7,
          "frequencies": 1435,
          "male_percentage": 82.3,
          "percentage": 0.17674590466806256,
          "sex": "F",
          "year": 1960
         },
         {
          "all": 7702,
          "f_prct": 0.175019475460919,
          "female_percent": 17.5,
          "frequencies": 1348,
          "male_percentage": 82.5,
          "percentage": 0.17501947546091925,
          "sex": "F",
          "year": 1964
         },
         {
          "all": 8588,
          "f_prct": 0.206916627852818,
          "female_percent": 20.7,
          "frequencies": 1777,
          "male_percentage": 79.3,
          "percentage": 0.2069166278528179,
          "sex": "F",
          "year": 1968
         },
         {
          "all": 10304,
          "f_prct": 0.21282996894409897,
          "female_percent": 21.3,
          "frequencies": 2193,
          "male_percentage": 78.7,
          "percentage": 0.2128299689440994,
          "sex": "F",
          "year": 1972
         },
         {
          "all": 8641,
          "f_prct": 0.25135979631987,
          "female_percent": 25.1,
          "frequencies": 2172,
          "male_percentage": 74.9,
          "percentage": 0.2513597963198704,
          "sex": "F",
          "year": 1976
         },
         {
          "all": 7191,
          "f_prct": 0.24419413155333103,
          "female_percent": 24.4,
          "frequencies": 1756,
          "male_percentage": 75.6,
          "percentage": 0.24419413155333056,
          "sex": "F",
          "year": 1980
         },
         {
          "all": 9454,
          "f_prct": 0.258832240321557,
          "female_percent": 25.9,
          "frequencies": 2447,
          "male_percentage": 74.1,
          "percentage": 0.258832240321557,
          "sex": "F",
          "year": 1984
         },
         {
          "all": 12037,
          "f_prct": 0.294342444130597,
          "female_percent": 29.4,
          "frequencies": 3543,
          "male_percentage": 70.6,
          "percentage": 0.29434244413059735,
          "sex": "F",
          "year": 1988
         },
         {
          "all": 12977,
          "f_prct": 0.3177930184172,
          "female_percent": 31.8,
          "frequencies": 4124,
          "male_percentage": 68.2,
          "percentage": 0.31779301841719965,
          "sex": "F",
          "year": 1992
         },
         {
          "all": 13780,
          "f_prct": 0.36342525399129205,
          "female_percent": 36.3,
          "frequencies": 5008,
          "male_percentage": 63.7,
          "percentage": 0.3634252539912917,
          "sex": "F",
          "year": 1996
         },
         {
          "all": 13821,
          "f_prct": 0.392952753056942,
          "female_percent": 39.3,
          "frequencies": 5431,
          "male_percentage": 60.7,
          "percentage": 0.3929527530569423,
          "sex": "F",
          "year": 2000
         },
         {
          "all": 13443,
          "f_prct": 0.412556720970022,
          "female_percent": 41.3,
          "frequencies": 5546,
          "male_percentage": 58.7,
          "percentage": 0.41255672097002155,
          "sex": "F",
          "year": 2004
         },
         {
          "all": 13602,
          "f_prct": 0.42758417879723604,
          "female_percent": 42.8,
          "frequencies": 5816,
          "male_percentage": 57.2,
          "percentage": 0.4275841787972357,
          "sex": "F",
          "year": 2008
         },
         {
          "all": 12920,
          "f_prct": 0.450077399380805,
          "female_percent": 45,
          "frequencies": 5815,
          "male_percentage": 55,
          "percentage": 0.45007739938080493,
          "sex": "F",
          "year": 2012
         },
         {
          "all": 13688,
          "f_prct": 0.454631794272355,
          "female_percent": 45.5,
          "frequencies": 6223,
          "male_percentage": 54.5,
          "percentage": 0.45463179427235534,
          "sex": "F",
          "year": 2016
         },
         {
          "all": 380,
          "f_prct": 0,
          "female_percent": 0,
          "frequencies": 380,
          "male_percentage": 100,
          "percentage": 1,
          "sex": "M",
          "year": 1896
         },
         {
          "all": 1936,
          "f_prct": 0.0170454545454545,
          "female_percent": 1.7,
          "frequencies": 1903,
          "male_percentage": 98.3,
          "percentage": 0.9829545454545454,
          "sex": "M",
          "year": 1900
         },
         {
          "all": 1301,
          "f_prct": 0.0122982321291314,
          "female_percent": 1.2,
          "frequencies": 1285,
          "male_percentage": 98.8,
          "percentage": 0.9877017678708686,
          "sex": "M",
          "year": 1904
         },
         {
          "all": 1733,
          "f_prct": 0.00634737449509521,
          "female_percent": 0.6,
          "frequencies": 1722,
          "male_percentage": 99.4,
          "percentage": 0.9936526255049047,
          "sex": "M",
          "year": 1906
         },
         {
          "all": 3101,
          "f_prct": 0.0151564011609158,
          "female_percent": 1.5,
          "frequencies": 3054,
          "male_percentage": 98.5,
          "percentage": 0.9848435988390841,
          "sex": "M",
          "year": 1908
         },
         {
          "all": 4040,
          "f_prct": 0.0215346534653465,
          "female_percent": 2.2,
          "frequencies": 3953,
          "male_percentage": 97.8,
          "percentage": 0.9784653465346534,
          "sex": "M",
          "year": 1912
         },
         {
          "all": 4292,
          "f_prct": 0.0312208760484623,
          "female_percent": 3.1,
          "frequencies": 4158,
          "male_percentage": 96.9,
          "percentage": 0.9687791239515378,
          "sex": "M",
          "year": 1920
         },
         {
          "all": 5233,
          "f_prct": 0.0466271737053316,
          "female_percent": 4.7,
          "frequencies": 4989,
          "male_percentage": 95.3,
          "percentage": 0.9533728262946685,
          "sex": "M",
          "year": 1924
         },
         {
          "all": 4992,
          "f_prct": 0.0809294871794872,
          "female_percent": 8.1,
          "frequencies": 4588,
          "male_percentage": 91.9,
          "percentage": 0.9190705128205128,
          "sex": "M",
          "year": 1928
         },
         {
          "all": 2969,
          "f_prct": 0.116874368474234,
          "female_percent": 11.7,
          "frequencies": 2622,
          "male_percentage": 88.3,
          "percentage": 0.8831256315257663,
          "sex": "M",
          "year": 1932
         },
         {
          "all": 6506,
          "f_prct": 0.0719335997540732,
          "female_percent": 7.2,
          "frequencies": 6038,
          "male_percentage": 92.8,
          "percentage": 0.9280664002459268,
          "sex": "M",
          "year": 1936
         },
         {
          "all": 6405,
          "f_prct": 0.09804839968774401,
          "female_percent": 9.8,
          "frequencies": 5777,
          "male_percentage": 90.2,
          "percentage": 0.9019516003122561,
          "sex": "M",
          "year": 1948
         },
         {
          "all": 8270,
          "f_prct": 0.18101571946795603,
          "female_percent": 18.1,
          "frequencies": 6773,
          "male_percentage": 81.9,
          "percentage": 0.8189842805320435,
          "sex": "M",
          "year": 1952
         },
         {
          "all": 5127,
          "f_prct": 0.174175931343866,
          "female_percent": 17.4,
          "frequencies": 4234,
          "male_percentage": 82.6,
          "percentage": 0.8258240686561342,
          "sex": "M",
          "year": 1956
         },
         {
          "all": 8119,
          "f_prct": 0.17674590466806303,
          "female_percent": 17.7,
          "frequencies": 6684,
          "male_percentage": 82.3,
          "percentage": 0.8232540953319374,
          "sex": "M",
          "year": 1960
         },
         {
          "all": 7702,
          "f_prct": 0.175019475460919,
          "female_percent": 17.5,
          "frequencies": 6354,
          "male_percentage": 82.5,
          "percentage": 0.8249805245390808,
          "sex": "M",
          "year": 1964
         },
         {
          "all": 8588,
          "f_prct": 0.206916627852818,
          "female_percent": 20.7,
          "frequencies": 6811,
          "male_percentage": 79.3,
          "percentage": 0.7930833721471822,
          "sex": "M",
          "year": 1968
         },
         {
          "all": 10304,
          "f_prct": 0.21282996894409897,
          "female_percent": 21.3,
          "frequencies": 8111,
          "male_percentage": 78.7,
          "percentage": 0.7871700310559007,
          "sex": "M",
          "year": 1972
         },
         {
          "all": 8641,
          "f_prct": 0.25135979631987,
          "female_percent": 25.1,
          "frequencies": 6469,
          "male_percentage": 74.9,
          "percentage": 0.7486402036801296,
          "sex": "M",
          "year": 1976
         },
         {
          "all": 7191,
          "f_prct": 0.24419413155333103,
          "female_percent": 24.4,
          "frequencies": 5435,
          "male_percentage": 75.6,
          "percentage": 0.7558058684466694,
          "sex": "M",
          "year": 1980
         },
         {
          "all": 9454,
          "f_prct": 0.258832240321557,
          "female_percent": 25.9,
          "frequencies": 7007,
          "male_percentage": 74.1,
          "percentage": 0.741167759678443,
          "sex": "M",
          "year": 1984
         },
         {
          "all": 12037,
          "f_prct": 0.294342444130597,
          "female_percent": 29.4,
          "frequencies": 8494,
          "male_percentage": 70.6,
          "percentage": 0.7056575558694027,
          "sex": "M",
          "year": 1988
         },
         {
          "all": 12977,
          "f_prct": 0.3177930184172,
          "female_percent": 31.8,
          "frequencies": 8853,
          "male_percentage": 68.2,
          "percentage": 0.6822069815828004,
          "sex": "M",
          "year": 1992
         },
         {
          "all": 13780,
          "f_prct": 0.36342525399129205,
          "female_percent": 36.3,
          "frequencies": 8772,
          "male_percentage": 63.7,
          "percentage": 0.6365747460087082,
          "sex": "M",
          "year": 1996
         },
         {
          "all": 13821,
          "f_prct": 0.392952753056942,
          "female_percent": 39.3,
          "frequencies": 8390,
          "male_percentage": 60.7,
          "percentage": 0.6070472469430577,
          "sex": "M",
          "year": 2000
         },
         {
          "all": 13443,
          "f_prct": 0.412556720970022,
          "female_percent": 41.3,
          "frequencies": 7897,
          "male_percentage": 58.7,
          "percentage": 0.5874432790299784,
          "sex": "M",
          "year": 2004
         },
         {
          "all": 13602,
          "f_prct": 0.42758417879723604,
          "female_percent": 42.8,
          "frequencies": 7786,
          "male_percentage": 57.2,
          "percentage": 0.5724158212027644,
          "sex": "M",
          "year": 2008
         },
         {
          "all": 12920,
          "f_prct": 0.450077399380805,
          "female_percent": 45,
          "frequencies": 7105,
          "male_percentage": 55,
          "percentage": 0.5499226006191951,
          "sex": "M",
          "year": 2012
         },
         {
          "all": 13688,
          "f_prct": 0.454631794272355,
          "female_percent": 45.5,
          "frequencies": 7465,
          "male_percentage": 54.5,
          "percentage": 0.5453682057276447,
          "sex": "M",
          "year": 2016
         }
        ]
       },
       "encoding": {
        "color": {
         "field": "sex",
         "type": "nominal"
        },
        "tooltip": [
         {
          "field": "year",
          "type": "quantitative"
         },
         {
          "field": "percentage",
          "type": "quantitative"
         }
        ],
        "x": {
         "field": "year",
         "title": "Year",
         "type": "quantitative"
        },
        "y": {
         "axis": {
          "format": "%",
          "title": "Percentage"
         },
         "field": "percentage",
         "type": "quantitative"
        }
       },
       "height": 300,
       "mark": {
        "size": 4,
        "type": "line"
       },
       "selection": {
        "selector019": {
         "bind": "scales",
         "encodings": [
          "x",
          "y"
         ],
         "type": "interval"
        }
       },
       "title": "Changes in female athletes participation in the Olympics (1896-2016)",
       "width": 800
      },
      "image/png": "[encoded data removed]",
      "text/plain": [
       "<VegaLite 3 object>\n",
       "\n",
       "If you see this message, it means the renderer has not been properly enabled\n",
       "for the frontend that you are using. For more information, see\n",
       "https://altair-viz.github.io/user_guide/troubleshooting.html\n"
      ]
     },
     "execution_count": 61,
     "metadata": {},
     "output_type": "execute_result"
    }
   ],
   "source": [
    "source = female_dcast_tidy_df\n",
    "\n",
    "alt.Chart(source, title = 'Changes in female athletes participation in the Olympics (1896-2016)').mark_line(size=4\n",
    ").encode(\n",
    "    x=alt.X('year',title='Year'),\n",
    "    y= alt.Y('percentage', axis=alt.Axis(format='%', title='Percentage')),\n",
    "    color='sex',\n",
    "    tooltip=['year','percentage:Q']\n",
    ").interactive().properties(\n",
    "    width=800,\n",
    "    height=300).configure_title(\n",
    "    fontSize=16).configure_axis(\n",
    "    labelFontSize=12,\n",
    "    titleFontSize=14\n",
    ").configure_legend(\n",
    "    strokeColor='gray',\n",
    "    fillColor='#EEEEEE',\n",
    "    padding=10,\n",
    "    cornerRadius=10,\n",
    "    labelFontSize=14\n",
    ")\n",
    "\n",
    "\n"
   ]
  },
  {
   "cell_type": "code",
   "execution_count": null,
   "metadata": {},
   "outputs": [],
   "source": []
  }
 ],
 "metadata": {
  "kernelspec": {
   "display_name": "dviz",
   "language": "python",
   "name": "dviz"
  },
  "language_info": {
   "codemirror_mode": {
    "name": "ipython",
    "version": 3
   },
   "file_extension": ".py",
   "mimetype": "text/x-python",
   "name": "python",
   "nbconvert_exporter": "python",
   "pygments_lexer": "ipython3",
   "version": "3.7.5"
  }
 },
 "nbformat": 4,
 "nbformat_minor": 4
}
